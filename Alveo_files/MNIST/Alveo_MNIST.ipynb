{
 "cells": [
  {
   "cell_type": "code",
   "execution_count": 1,
   "metadata": {},
   "outputs": [
    {
     "data": {
      "application/javascript": [
       "\n",
       "try {\n",
       "require(['notebook/js/codecell'], function(codecell) {\n",
       "  codecell.CodeCell.options_default.highlight_modes[\n",
       "      'magic_text/x-csrc'] = {'reg':[/^%%microblaze/]};\n",
       "  Jupyter.notebook.events.one('kernel_ready.Kernel', function(){\n",
       "      Jupyter.notebook.get_cells().map(function(cell){\n",
       "          if (cell.cell_type == 'code'){ cell.auto_highlight(); } }) ;\n",
       "  });\n",
       "});\n",
       "} catch (e) {};\n"
      ]
     },
     "metadata": {},
     "output_type": "display_data"
    },
    {
     "data": {
      "application/javascript": [
       "\n",
       "try {\n",
       "require(['notebook/js/codecell'], function(codecell) {\n",
       "  codecell.CodeCell.options_default.highlight_modes[\n",
       "      'magic_text/x-csrc'] = {'reg':[/^%%pybind11/]};\n",
       "  Jupyter.notebook.events.one('kernel_ready.Kernel', function(){\n",
       "      Jupyter.notebook.get_cells().map(function(cell){\n",
       "          if (cell.cell_type == 'code'){ cell.auto_highlight(); } }) ;\n",
       "  });\n",
       "});\n",
       "} catch (e) {};\n"
      ]
     },
     "metadata": {},
     "output_type": "display_data"
    }
   ],
   "source": [
    "from pynq import Overlay\n",
    "from pynq import MMIO\n",
    "import numpy as np\n",
    "import struct\n",
    "from time import time\n",
    "\n",
    "from matplotlib import pyplot as plt"
   ]
  },
  {
   "cell_type": "markdown",
   "metadata": {},
   "source": [
    "## Axi4lite inteface"
   ]
  },
  {
   "cell_type": "markdown",
   "metadata": {},
   "source": [
    "## CNN"
   ]
  },
  {
   "cell_type": "markdown",
   "metadata": {},
   "source": [
    "### Load the overlay"
   ]
  },
  {
   "cell_type": "code",
   "execution_count": 2,
   "metadata": {},
   "outputs": [],
   "source": [
    "from pynq import Overlay\n",
    "\n",
    "overlay = Overlay('/home/xilinx/pynq/overlays/User_overlay/PYNQ_CNN.bit')"
   ]
  },
  {
   "cell_type": "code",
   "execution_count": 3,
   "metadata": {},
   "outputs": [
    {
     "data": {
      "text/plain": [
       "True"
      ]
     },
     "execution_count": 3,
     "metadata": {},
     "output_type": "execute_result"
    }
   ],
   "source": [
    "overlay.is_loaded()"
   ]
  },
  {
   "cell_type": "markdown",
   "metadata": {},
   "source": [
    "### Check the clocks"
   ]
  },
  {
   "cell_type": "code",
   "execution_count": 4,
   "metadata": {},
   "outputs": [
    {
     "name": "stdout",
     "output_type": "stream",
     "text": [
      "CPU:   650.000000MHz\n",
      "FCLK0: 100.000000MHz\n",
      "FCLK1: 100.000000MHz\n",
      "FCLK2: 100.000000MHz\n",
      "FCLK3: 100.000000MHz\n"
     ]
    }
   ],
   "source": [
    "from pynq import Clocks\n",
    "\n",
    "print(f'CPU:   {Clocks.cpu_mhz:.6f}MHz')\n",
    "print(f'FCLK0: {Clocks.fclk0_mhz:.6f}MHz')\n",
    "print(f'FCLK1: {Clocks.fclk1_mhz:.6f}MHz')\n",
    "print(f'FCLK2: {Clocks.fclk2_mhz:.6f}MHz')\n",
    "print(f'FCLK3: {Clocks.fclk3_mhz:.6f}MHz')"
   ]
  },
  {
   "cell_type": "markdown",
   "metadata": {},
   "source": [
    "### Define the CNN ip\n",
    "\n",
    "Here we define the ip and diplay the two memory mapped port addresses"
   ]
  },
  {
   "cell_type": "code",
   "execution_count": 5,
   "metadata": {},
   "outputs": [],
   "source": [
    "ip = overlay.CNN_MNIST_0"
   ]
  },
  {
   "cell_type": "code",
   "execution_count": 6,
   "metadata": {},
   "outputs": [
    {
     "data": {
      "text/plain": [
       "RegisterMap {\n",
       "  Memory_in_V = Register(value=0),\n",
       "  Memory_out_V = Register(value=37945396)\n",
       "}"
      ]
     },
     "execution_count": 6,
     "metadata": {},
     "output_type": "execute_result"
    }
   ],
   "source": [
    "ip.register_map"
   ]
  },
  {
   "cell_type": "code",
   "execution_count": 7,
   "metadata": {},
   "outputs": [
    {
     "name": "stdout",
     "output_type": "stream",
     "text": [
      "Memory_in_V.address: 1024\n",
      "Memory_out_V.address: 2048\n"
     ]
    }
   ],
   "source": [
    "print(\"Memory_in_V.address: \" + str(ip.register_map.Memory_in_V.address))\n",
    "print(\"Memory_out_V.address: \" + str(ip.register_map.Memory_out_V.address))"
   ]
  },
  {
   "cell_type": "code",
   "execution_count": 8,
   "metadata": {},
   "outputs": [],
   "source": [
    "in_mmio = MMIO(ip.mmio.base_addr + ip.register_map.Memory_in_V.address, 196 * 4)\n",
    "ou_mmio = MMIO(ip.mmio.base_addr + ip.register_map.Memory_out_V.address, 5 * 4)"
   ]
  },
  {
   "cell_type": "markdown",
   "metadata": {},
   "source": [
    "### Load a fraction of the test dataset"
   ]
  },
  {
   "cell_type": "code",
   "execution_count": 9,
   "metadata": {},
   "outputs": [],
   "source": [
    "X = np.load('./X_test.npy').astype(np.float32)\n",
    "X = X[:5]"
   ]
  },
  {
   "cell_type": "code",
   "execution_count": 10,
   "metadata": {},
   "outputs": [],
   "source": [
    "def encode_matrix(matrix):\n",
    "    X_ca = np.reshape(matrix*2**5, (196,4))\n",
    "    X_ca = X_ca.astype(np.uint32)\n",
    "    X_enc = X_ca[:,0] + (X_ca[:,1]<<8) + (X_ca[:,2]<<16) + (X_ca[:,3]<<24)\n",
    "    return X_enc\n",
    "\n",
    "\n",
    "def decode(yi):\n",
    "    return yi * 2**-10\n",
    "\n",
    "def decode_pair(yab):\n",
    "    ya = (yab & 0x0000ffff) * 2**-10\n",
    "    ya = ya if ya < 32 else ya - 64\n",
    "    yb = (yab & 0xffff0000) * 2**-26\n",
    "    yb = yb if yb < 32 else yb - 64\n",
    "    return ya, yb\n",
    "\n",
    "def get_output(mmio):\n",
    "    y = np.zeros(10)\n",
    "    for i in range(5):\n",
    "        yi = decode_pair(mmio.read(4 * i))\n",
    "        y[2*i], y[2*i+1] = yi[0], yi[1]\n",
    "    return y[:10]\n",
    "\n",
    "#def decode_output(y):\n",
    "    \n",
    "\n",
    "def print_img(matrix, title=\"Label\"):\n",
    "    plt.imshow(matrix, cmap='gray')\n",
    "    plt.title(title)\n",
    "    plt.show()\n",
    "\n",
    "    \n",
    "def print_dt(timea, timeb, N):\n",
    "    dt = (timeb - timea) \n",
    "    rate = N / dt\n",
    "    print(\"Classified {} images in {} seconds ({} inferences / s)\".format(N, dt, rate))\n",
    "    print(\"----------------------------------------------------------------------------\")\n",
    "    print(\"{} s/inference \".format(1/rate))       "
   ]
  },
  {
   "cell_type": "markdown",
   "metadata": {},
   "source": [
    "### Test\n",
    "Siple test on the first five images"
   ]
  },
  {
   "cell_type": "code",
   "execution_count": 11,
   "metadata": {},
   "outputs": [
    {
     "name": "stdout",
     "output_type": "stream",
     "text": [
      "Throughput = 102.562257 image/s\n"
     ]
    }
   ],
   "source": [
    "y = []\n",
    "timea = time()\n",
    "for Xi in X:\n",
    "    X_new = encode_matrix(Xi)\n",
    "    for i in range(196):\n",
    "        in_mmio.write(4 * i, int(X_new[i]))\n",
    "    y.append(get_output(ou_mmio))\n",
    "timeb = time()\n",
    "ips = X.shape[0]/(timeb-timea) #images per second\n",
    "print('Throughput = %f image/s' % ips)"
   ]
  },
  {
   "cell_type": "code",
   "execution_count": 12,
   "metadata": {},
   "outputs": [
    {
     "data": {
      "image/png": "[encoded data removed]",
      "text/plain": [
       "<matplotlib.figure.Figure at 0xae464dd0>"
      ]
     },
     "metadata": {},
     "output_type": "display_data"
    },
    {
     "data": {
      "image/png": "[encoded data removed]",
      "text/plain": [
       "<matplotlib.figure.Figure at 0xb3adf490>"
      ]
     },
     "metadata": {},
     "output_type": "display_data"
    },
    {
     "data": {
      "image/png": "[encoded data removed]",
      "text/plain": [
       "<matplotlib.figure.Figure at 0xae322470>"
      ]
     },
     "metadata": {},
     "output_type": "display_data"
    },
    {
     "data": {
      "image/png": "[encoded data removed]",
      "text/plain": [
       "<matplotlib.figure.Figure at 0xae3a43b0>"
      ]
     },
     "metadata": {},
     "output_type": "display_data"
    },
    {
     "data": {
      "image/png": "[encoded data removed]",
      "text/plain": [
       "<matplotlib.figure.Figure at 0xae3276f0>"
      ]
     },
     "metadata": {},
     "output_type": "display_data"
    }
   ],
   "source": [
    "for i in range(X.shape[0]):\n",
    "    img_title = ('Predicted label: %d' % np.argmax(np.array(y[i])))\n",
    "    print_img(X[i], img_title)"
   ]
  },
  {
   "cell_type": "markdown",
   "metadata": {},
   "source": [
    "### Whole dataset computation"
   ]
  },
  {
   "cell_type": "code",
   "execution_count": 13,
   "metadata": {},
   "outputs": [
    {
     "name": "stdout",
     "output_type": "stream",
     "text": [
      "Classified 500 images in 3.7906312942504883 seconds (131.90415030825721 inferences / s)\n",
      "----------------------------------------------------------------------------\n",
      "0.007581262588500976 s/inference \n",
      "Classified 500 images in 3.8317949771881104 seconds (130.48714844522175 inferences / s)\n",
      "----------------------------------------------------------------------------\n",
      "0.00766358995437622 s/inference \n",
      "Classified 500 images in 3.944728374481201 seconds (126.7514395248465 inferences / s)\n",
      "----------------------------------------------------------------------------\n",
      "0.007889456748962402 s/inference \n",
      "Classified 500 images in 3.9534668922424316 seconds (126.47127537127213 inferences / s)\n",
      "----------------------------------------------------------------------------\n",
      "0.007906933784484864 s/inference \n",
      "Classified 500 images in 3.953436851501465 seconds (126.47223638088626 inferences / s)\n",
      "----------------------------------------------------------------------------\n",
      "0.00790687370300293 s/inference \n",
      "Classified 500 images in 3.944819927215576 seconds (126.74849783394842 inferences / s)\n",
      "----------------------------------------------------------------------------\n",
      "0.007889639854431151 s/inference \n",
      "Classified 500 images in 3.9370405673980713 seconds (126.99894538563066 inferences / s)\n",
      "----------------------------------------------------------------------------\n",
      "0.007874081134796143 s/inference \n",
      "Classified 500 images in 3.9264090061187744 seconds (127.34282119382316 inferences / s)\n",
      "----------------------------------------------------------------------------\n",
      "0.007852818012237549 s/inference \n",
      "Classified 500 images in 3.9366698265075684 seconds (127.0109056729243 inferences / s)\n",
      "----------------------------------------------------------------------------\n",
      "0.007873339653015137 s/inference \n",
      "Classified 500 images in 3.944138526916504 seconds (126.77039525558855 inferences / s)\n",
      "----------------------------------------------------------------------------\n",
      "0.007888277053833008 s/inference \n",
      "Classified 500 images in 3.9265356063842773 seconds (127.33871537724866 inferences / s)\n",
      "----------------------------------------------------------------------------\n",
      "0.007853071212768556 s/inference \n",
      "Classified 500 images in 3.93856143951416 seconds (126.94990485198 inferences / s)\n",
      "----------------------------------------------------------------------------\n",
      "0.007877122879028321 s/inference \n",
      "Classified 500 images in 3.930407762527466 seconds (127.21326391806046 inferences / s)\n",
      "----------------------------------------------------------------------------\n",
      "0.007860815525054932 s/inference \n",
      "Classified 500 images in 3.942535400390625 seconds (126.82194304468646 inferences / s)\n",
      "----------------------------------------------------------------------------\n",
      "0.00788507080078125 s/inference \n",
      "Classified 500 images in 3.953543186187744 seconds (126.46883477757873 inferences / s)\n",
      "----------------------------------------------------------------------------\n",
      "0.007907086372375489 s/inference \n",
      "Classified 500 images in 3.952467203140259 seconds (126.50326348128759 inferences / s)\n",
      "----------------------------------------------------------------------------\n",
      "0.007904934406280517 s/inference \n",
      "Classified 500 images in 3.9465413093566895 seconds (126.69321332442941 inferences / s)\n",
      "----------------------------------------------------------------------------\n",
      "0.007893082618713378 s/inference \n",
      "Classified 500 images in 3.945650100708008 seconds (126.72182967016765 inferences / s)\n",
      "----------------------------------------------------------------------------\n",
      "0.007891300201416016 s/inference \n",
      "Classified 500 images in 3.9666061401367188 seconds (126.05234357418865 inferences / s)\n",
      "----------------------------------------------------------------------------\n",
      "0.007933212280273438 s/inference \n",
      "Classified 10000 images in 78.63104820251465 seconds (127.17622654914825 inferences / s)\n",
      "----------------------------------------------------------------------------\n",
      "0.007863104820251465 s/inference \n"
     ]
    }
   ],
   "source": [
    "N_callback = 500\n",
    "\n",
    "X = np.load('./X_test.npy').astype(np.float32)\n",
    "y = []\n",
    "timea = time()\n",
    "time0 = time()\n",
    "for iXi, Xi in enumerate(X):\n",
    "    X_new = encode_matrix(Xi)\n",
    "    for i in range(196):\n",
    "        in_mmio.write(4 * i, int(X_new[i]))\n",
    "    y.append(get_output(ou_mmio))\n",
    "    if (iXi % N_callback == 0) & (iXi != 0):\n",
    "        time1 = time()\n",
    "        print_dt(time0, time1, N_callback)\n",
    "        time0 = time()\n",
    "\n",
    "timeb = time()\n",
    "print_dt(timea, timeb, X.shape[0])\n",
    "np.save('y_pynq_CNN.npy', y)"
   ]
  },
  {
   "cell_type": "markdown",
   "metadata": {},
   "source": [
    "## DNN "
   ]
  },
  {
   "cell_type": "code",
   "execution_count": 14,
   "metadata": {},
   "outputs": [],
   "source": [
    "from pynq import Overlay\n",
    "\n",
    "overlay = Overlay('/home/xilinx/pynq/overlays/User_overlay/PYNQ_DNN.bit')"
   ]
  },
  {
   "cell_type": "code",
   "execution_count": 15,
   "metadata": {},
   "outputs": [
    {
     "data": {
      "text/plain": [
       "True"
      ]
     },
     "execution_count": 15,
     "metadata": {},
     "output_type": "execute_result"
    }
   ],
   "source": [
    "overlay.is_loaded()"
   ]
  },
  {
   "cell_type": "code",
   "execution_count": 16,
   "metadata": {},
   "outputs": [
    {
     "name": "stdout",
     "output_type": "stream",
     "text": [
      "CPU:   650.000000MHz\n",
      "FCLK0: 100.000000MHz\n",
      "FCLK1: 100.000000MHz\n",
      "FCLK2: 100.000000MHz\n",
      "FCLK3: 100.000000MHz\n"
     ]
    }
   ],
   "source": [
    "from pynq import Clocks\n",
    "\n",
    "print(f'CPU:   {Clocks.cpu_mhz:.6f}MHz')\n",
    "print(f'FCLK0: {Clocks.fclk0_mhz:.6f}MHz')\n",
    "print(f'FCLK1: {Clocks.fclk1_mhz:.6f}MHz')\n",
    "print(f'FCLK2: {Clocks.fclk2_mhz:.6f}MHz')\n",
    "print(f'FCLK3: {Clocks.fclk3_mhz:.6f}MHz')"
   ]
  },
  {
   "cell_type": "code",
   "execution_count": 17,
   "metadata": {},
   "outputs": [],
   "source": [
    "ip = overlay.DNN_MNIST_0"
   ]
  },
  {
   "cell_type": "code",
   "execution_count": 18,
   "metadata": {},
   "outputs": [
    {
     "data": {
      "text/plain": [
       "RegisterMap {\n",
       "  Memory_in_V = Register(value=0),\n",
       "  Memory_out_V = Register(value=9437208)\n",
       "}"
      ]
     },
     "execution_count": 18,
     "metadata": {},
     "output_type": "execute_result"
    }
   ],
   "source": [
    "ip.register_map"
   ]
  },
  {
   "cell_type": "code",
   "execution_count": 19,
   "metadata": {},
   "outputs": [
    {
     "name": "stdout",
     "output_type": "stream",
     "text": [
      "Memory_in_V.address: 1024\n",
      "Memory_out_V.address: 2048\n"
     ]
    }
   ],
   "source": [
    "print(\"Memory_in_V.address: \" + str(ip.register_map.Memory_in_V.address))\n",
    "print(\"Memory_out_V.address: \" + str(ip.register_map.Memory_out_V.address))"
   ]
  },
  {
   "cell_type": "code",
   "execution_count": 20,
   "metadata": {},
   "outputs": [],
   "source": [
    "in_mmio = MMIO(ip.mmio.base_addr + ip.register_map.Memory_in_V.address, 196 * 4)\n",
    "ou_mmio = MMIO(ip.mmio.base_addr + ip.register_map.Memory_out_V.address, 5 * 4)"
   ]
  },
  {
   "cell_type": "code",
   "execution_count": 21,
   "metadata": {},
   "outputs": [],
   "source": [
    "X = np.load('./X_test.npy').astype(np.float32)\n",
    "X = X[:5]"
   ]
  },
  {
   "cell_type": "code",
   "execution_count": 22,
   "metadata": {},
   "outputs": [
    {
     "name": "stdout",
     "output_type": "stream",
     "text": [
      "Throughput = 76.740328 image/s\n"
     ]
    }
   ],
   "source": [
    "y = []\n",
    "timea = time()\n",
    "for Xi in X:\n",
    "    X_new = encode_matrix(Xi)\n",
    "    for i in range(196):\n",
    "        in_mmio.write(4 * i, int(X_new[i]))\n",
    "    y.append(get_output(ou_mmio))\n",
    "timeb = time()\n",
    "ips = X.shape[0]/(timeb-timea) #images per second\n",
    "print('Throughput = %f image/s' % ips)"
   ]
  },
  {
   "cell_type": "code",
   "execution_count": 23,
   "metadata": {},
   "outputs": [
    {
     "data": {
      "image/png": "[encoded data removed]",
      "text/plain": [
       "<matplotlib.figure.Figure at 0xaee28e90>"
      ]
     },
     "metadata": {},
     "output_type": "display_data"
    },
    {
     "data": {
      "image/png": "[encoded data removed]",
      "text/plain": [
       "<matplotlib.figure.Figure at 0xae379af0>"
      ]
     },
     "metadata": {},
     "output_type": "display_data"
    },
    {
     "data": {
      "image/png": "[encoded data removed]",
      "text/plain": [
       "<matplotlib.figure.Figure at 0xae2e1c90>"
      ]
     },
     "metadata": {},
     "output_type": "display_data"
    },
    {
     "data": {
      "image/png": "[encoded data removed]",
      "text/plain": [
       "<matplotlib.figure.Figure at 0xae26a3b0>"
      ]
     },
     "metadata": {},
     "output_type": "display_data"
    },
    {
     "data": {
      "image/png": "[encoded data removed]",
      "text/plain": [
       "<matplotlib.figure.Figure at 0xae1cddb0>"
      ]
     },
     "metadata": {},
     "output_type": "display_data"
    }
   ],
   "source": [
    "for i in range(X.shape[0]):\n",
    "    img_title = ('Predicted label: %d' % np.argmax(np.array(y[i])))\n",
    "    print_img(X[i], img_title)"
   ]
  },
  {
   "cell_type": "code",
   "execution_count": 24,
   "metadata": {},
   "outputs": [
    {
     "name": "stdout",
     "output_type": "stream",
     "text": [
      "Classified 500 images in 3.9998793601989746 seconds (125.0037701074883 inferences / s)\n",
      "----------------------------------------------------------------------------\n",
      "0.007999758720397949 s/inference \n",
      "Classified 500 images in 3.842712163925171 seconds (130.11643304797275 inferences / s)\n",
      "----------------------------------------------------------------------------\n",
      "0.007685424327850342 s/inference \n",
      "Classified 500 images in 3.84317946434021 seconds (130.10061191244398 inferences / s)\n",
      "----------------------------------------------------------------------------\n",
      "0.00768635892868042 s/inference \n",
      "Classified 500 images in 3.834834337234497 seconds (130.38372874291528 inferences / s)\n",
      "----------------------------------------------------------------------------\n",
      "0.007669668674468995 s/inference \n",
      "Classified 500 images in 3.840297222137451 seconds (130.19825578024077 inferences / s)\n",
      "----------------------------------------------------------------------------\n",
      "0.007680594444274902 s/inference \n",
      "Classified 500 images in 3.8425076007843018 seconds (130.12336004174566 inferences / s)\n",
      "----------------------------------------------------------------------------\n",
      "0.007685015201568604 s/inference \n",
      "Classified 500 images in 3.8293890953063965 seconds (130.56912931956685 inferences / s)\n",
      "----------------------------------------------------------------------------\n",
      "0.007658778190612793 s/inference \n",
      "Classified 500 images in 3.8276989459991455 seconds (130.62678310231757 inferences / s)\n",
      "----------------------------------------------------------------------------\n",
      "0.007655397891998292 s/inference \n",
      "Classified 500 images in 3.8379874229431152 seconds (130.27661242740106 inferences / s)\n",
      "----------------------------------------------------------------------------\n",
      "0.00767597484588623 s/inference \n",
      "Classified 500 images in 3.8304266929626465 seconds (130.53376035589253 inferences / s)\n",
      "----------------------------------------------------------------------------\n",
      "0.007660853385925293 s/inference \n",
      "Classified 500 images in 3.833421230316162 seconds (130.4317918536603 inferences / s)\n",
      "----------------------------------------------------------------------------\n",
      "0.007666842460632324 s/inference \n",
      "Classified 500 images in 3.850844621658325 seconds (129.84164491806484 inferences / s)\n",
      "----------------------------------------------------------------------------\n",
      "0.00770168924331665 s/inference \n",
      "Classified 500 images in 3.8290114402770996 seconds (130.5820073402068 inferences / s)\n",
      "----------------------------------------------------------------------------\n",
      "0.0076580228805541994 s/inference \n",
      "Classified 500 images in 3.829003095626831 seconds (130.58229192111608 inferences / s)\n",
      "----------------------------------------------------------------------------\n",
      "0.007658006191253662 s/inference \n",
      "Classified 500 images in 3.84442138671875 seconds (130.05858351723373 inferences / s)\n",
      "----------------------------------------------------------------------------\n",
      "0.007688842773437499 s/inference \n",
      "Classified 500 images in 3.831733465194702 seconds (130.48924319546674 inferences / s)\n",
      "----------------------------------------------------------------------------\n",
      "0.007663466930389404 s/inference \n",
      "Classified 500 images in 3.8323910236358643 seconds (130.4668539604396 inferences / s)\n",
      "----------------------------------------------------------------------------\n",
      "0.007664782047271729 s/inference \n",
      "Classified 500 images in 3.8335726261138916 seconds (130.42664082951052 inferences / s)\n",
      "----------------------------------------------------------------------------\n",
      "0.007667145252227784 s/inference \n",
      "Classified 500 images in 3.8423140048980713 seconds (130.1299163375545 inferences / s)\n",
      "----------------------------------------------------------------------------\n",
      "0.007684628009796143 s/inference \n",
      "Classified 10000 images in 76.89702129364014 seconds (130.04404893414335 inferences / s)\n",
      "----------------------------------------------------------------------------\n",
      "0.007689702129364013 s/inference \n"
     ]
    }
   ],
   "source": [
    "N_callback = 500\n",
    "\n",
    "X = np.load('./X_test.npy').astype(np.float32)\n",
    "y = []\n",
    "timea = time()\n",
    "time0 = time()\n",
    "for iXi, Xi in enumerate(X):\n",
    "    X_new = encode_matrix(Xi)\n",
    "    for i in range(196):\n",
    "        in_mmio.write(4 * i, int(X_new[i]))\n",
    "    y.append(get_output(ou_mmio))\n",
    "    if (iXi % N_callback == 0) & (iXi != 0):\n",
    "        time1 = time()\n",
    "        print_dt(time0, time1, N_callback)\n",
    "        time0 = time()\n",
    "\n",
    "timeb = time()\n",
    "print_dt(timea, timeb, X.shape[0])\n",
    "np.save('y_pynq_DNN.npy', y)"
   ]
  },
  {
   "cell_type": "markdown",
   "metadata": {},
   "source": [
    "## Axis interface with DMA"
   ]
  },
  {
   "cell_type": "markdown",
   "metadata": {},
   "source": [
    "## CNN"
   ]
  },
  {
   "cell_type": "code",
   "execution_count": 1,
   "metadata": {},
   "outputs": [
    {
     "data": {
      "application/javascript": [
       "\n",
       "try {\n",
       "require(['notebook/js/codecell'], function(codecell) {\n",
       "  codecell.CodeCell.options_default.highlight_modes[\n",
       "      'magic_text/x-csrc'] = {'reg':[/^%%microblaze/]};\n",
       "  Jupyter.notebook.events.one('kernel_ready.Kernel', function(){\n",
       "      Jupyter.notebook.get_cells().map(function(cell){\n",
       "          if (cell.cell_type == 'code'){ cell.auto_highlight(); } }) ;\n",
       "  });\n",
       "});\n",
       "} catch (e) {};\n"
      ]
     },
     "metadata": {},
     "output_type": "display_data"
    },
    {
     "data": {
      "application/javascript": [
       "\n",
       "try {\n",
       "require(['notebook/js/codecell'], function(codecell) {\n",
       "  codecell.CodeCell.options_default.highlight_modes[\n",
       "      'magic_text/x-csrc'] = {'reg':[/^%%pybind11/]};\n",
       "  Jupyter.notebook.events.one('kernel_ready.Kernel', function(){\n",
       "      Jupyter.notebook.get_cells().map(function(cell){\n",
       "          if (cell.cell_type == 'code'){ cell.auto_highlight(); } }) ;\n",
       "  });\n",
       "});\n",
       "} catch (e) {};\n"
      ]
     },
     "metadata": {},
     "output_type": "display_data"
    }
   ],
   "source": [
    "from pynq import DefaultHierarchy, DefaultIP, allocate\n",
    "from pynq import Overlay\n",
    "from datetime import datetime\n",
    "import pynq.lib.dma\n",
    "import numpy as np\n",
    "\n",
    "import matplotlib.pyplot as plt\n",
    "\n",
    "class NeuralNetworkOverlay(Overlay):\n",
    "    def __init__(self, bitfile_name, dtbo=None, download=True, ignore_version=False, device=None):\n",
    "        \n",
    "        super().__init__(bitfile_name, dtbo=dtbo, download=download, ignore_version=ignore_version, device=device)\n",
    "        \n",
    "    def _print_dt(self, timea, timeb, N):\n",
    "        dt      = (timeb - timea)\n",
    "        dts = dt.seconds + dt.microseconds * 10**-6\n",
    "        rate = N / dts\n",
    "        print(\"Classified {} samples in {} seconds ({} inferences / s)\".format(N, dts, rate))\n",
    "        print(\"Or {} us / inferences\".format(1/rate*1e6))\n",
    "        return dts, rate\n",
    "    def predict(self, X, y_shape, dtype=np.float32, debug=None, profile=False, encode=None, decode=None):\n",
    "        \"\"\"\n",
    "        Obtain the predictions of the NN implemented in the FPGA.\n",
    "        Parameters:\n",
    "        - X : the input vector. Should be numpy ndarray.\n",
    "        - y_shape : the shape of the output vector. Needed to the accelerator to set the TLAST bit properly and\n",
    "                    for sizing the output vector shape.\n",
    "        - dtype : the data type of the elements of the input/output vectors. \n",
    "                  Note: it should be set depending on the interface of the accelerator; if it uses 'float' \n",
    "                  types for the 'data' AXI-Stream field, 'np.float32' dtype is the correct one to use. \n",
    "                  Instead if it uses 'ap_fixed<A,B>', 'np.intA' is the correct one to use (note that A cannot\n",
    "                  any integer value, but it can assume {..., 8, 16, 32, ...} values. Check `numpy` \n",
    "                  doc for more info).\n",
    "                  In this case the encoding/decoding has to be computed by the PS. For example for \n",
    "                  'ap_fixed<16,6>' type the following 2 functions are the correct one to use for encode/decode \n",
    "                  'float' -> 'ap_fixed<16,6>':\n",
    "                  ```\n",
    "                    def encode(xi):\n",
    "                        return np.int16(round(xi * 2**10)) # note 2**10 = 2**(A-B)\n",
    "                    def decode(yi):\n",
    "                        return yi * 2**-10\n",
    "                    encode_v = np.vectorize(encode) # to apply them element-wise\n",
    "                    decode_v = np.vectorize(decode)\n",
    "                  ```\n",
    "        - profile : boolean. Set it to `True` to print the performance of the algorithm in term of `inference/s`.\n",
    "        - encode/decode: function pointers. See `dtype` section for more information.\n",
    "        - return: an output array based on `np.ndarray` with a shape equal to `y_shape` and a `dtype` equal to\n",
    "                  the namesake parameter.\n",
    "        \"\"\"\n",
    "        if profile:\n",
    "            timea = datetime.now()\n",
    "        if encode is not None:\n",
    "            X = encode(X)\n",
    "        with allocate(shape=X.shape, dtype=dtype) as input_buffer, \\\n",
    "             allocate(shape=y_shape, dtype=dtype) as output_buffer:\n",
    "            input_buffer[:] = X \n",
    "            self.hier_0.axi_dma_0.sendchannel.transfer(input_buffer)\n",
    "            self.hier_0.axi_dma_0.recvchannel.transfer(output_buffer)\n",
    "            if debug:\n",
    "                print(\"Transfer OK\")\n",
    "            self.hier_0.axi_dma_0.sendchannel.wait()\n",
    "            #self.hier_0.axi_dma_0.sendchannel.wait_async()\n",
    "            if debug:\n",
    "                print(\"Send OK\")\n",
    "            self.hier_0.axi_dma_0.recvchannel.wait()\n",
    "            #self.hier_0.axi_dma_0.recvchannel.wait_async()\n",
    "            if debug:\n",
    "                print(\"Receive OK\")\n",
    "            result = output_buffer.copy()\n",
    "            input_buffer.flush()\n",
    "            #output_buffer.flush()\n",
    "        if decode is not None:\n",
    "            result = decode(result)\n",
    "        if profile:\n",
    "            timeb = datetime.now()\n",
    "            dts, rate = self._print_dt(timea, timeb, len(X))\n",
    "            return result, dts, rate\n",
    "        return result\n",
    "    \n",
    "def print_img(matrix, title=\"Label\"):\n",
    "    plt.imshow(matrix, cmap='gray')\n",
    "    plt.title(title)\n",
    "    plt.show()"
   ]
  },
  {
   "cell_type": "code",
   "execution_count": 2,
   "metadata": {},
   "outputs": [],
   "source": [
    "X = np.load('./X_test.npy').astype(np.float32)"
   ]
  },
  {
   "cell_type": "code",
   "execution_count": 3,
   "metadata": {},
   "outputs": [
    {
     "data": {
      "text/plain": [
       "True"
      ]
     },
     "execution_count": 3,
     "metadata": {},
     "output_type": "execute_result"
    }
   ],
   "source": [
    "overlay = NeuralNetworkOverlay(bitfile_name='/home/xilinx/pynq/overlays/User_overlay/PYNQ_DMA_CNN_float.bit')\n",
    "overlay.is_loaded()"
   ]
  },
  {
   "cell_type": "code",
   "execution_count": 4,
   "metadata": {},
   "outputs": [
    {
     "name": "stdout",
     "output_type": "stream",
     "text": [
      "CPU:   650.000000MHz\n",
      "FCLK0: 200.000000MHz\n",
      "FCLK1: 100.000000MHz\n",
      "FCLK2: 100.000000MHz\n",
      "FCLK3: 100.000000MHz\n"
     ]
    }
   ],
   "source": [
    "from pynq import Clocks\n",
    "\n",
    "Clocks.fclk0_mhz = 200\n",
    "\n",
    "print(f'CPU:   {Clocks.cpu_mhz:.6f}MHz')\n",
    "print(f'FCLK0: {Clocks.fclk0_mhz:.6f}MHz')\n",
    "print(f'FCLK1: {Clocks.fclk1_mhz:.6f}MHz')\n",
    "print(f'FCLK2: {Clocks.fclk2_mhz:.6f}MHz')\n",
    "print(f'FCLK3: {Clocks.fclk3_mhz:.6f}MHz')"
   ]
  },
  {
   "cell_type": "code",
   "execution_count": 10,
   "metadata": {},
   "outputs": [
    {
     "name": "stdout",
     "output_type": "stream",
     "text": [
      "Classified 10000 samples in 0.8662599999999999 seconds (11543.878281347403 inferences / s)\n",
      "Or 86.62599999999999 us / inferences\n"
     ]
    }
   ],
   "source": [
    "y, _, _ = overlay.predict(X=X, y_shape=(X.shape[0],10), dtype=np.float32, profile=True, debug=False)"
   ]
  },
  {
   "cell_type": "code",
   "execution_count": 11,
   "metadata": {},
   "outputs": [
    {
     "name": "stdout",
     "output_type": "stream",
     "text": [
      "Classified 200 samples in 0.096361 seconds (2075.5284814395864 inferences / s)\n",
      "Or 481.805 us / inferences\n",
      "Classified 400 samples in 0.08839699999999999 seconds (4525.040442548956 inferences / s)\n",
      "Or 220.99249999999998 us / inferences\n",
      "Classified 600 samples in 0.09887399999999999 seconds (6068.329388919231 inferences / s)\n",
      "Or 164.79 us / inferences\n",
      "Classified 800 samples in 0.11441599999999999 seconds (6992.029086841002 inferences / s)\n",
      "Or 143.02 us / inferences\n",
      "Classified 1000 samples in 0.1305 seconds (7662.835249042146 inferences / s)\n",
      "Or 130.5 us / inferences\n",
      "Classified 1200 samples in 0.150718 seconds (7961.889090884964 inferences / s)\n",
      "Or 125.59833333333333 us / inferences\n",
      "Classified 1400 samples in 0.159247 seconds (8791.374405797284 inferences / s)\n",
      "Or 113.74785714285714 us / inferences\n",
      "Classified 1600 samples in 0.179395 seconds (8918.866189135706 inferences / s)\n",
      "Or 112.121875 us / inferences\n",
      "Classified 1800 samples in 0.193297 seconds (9312.0948592063 inferences / s)\n",
      "Or 107.3872222222222 us / inferences\n",
      "Classified 2000 samples in 0.215882 seconds (9264.320323139493 inferences / s)\n",
      "Or 107.941 us / inferences\n",
      "Classified 2200 samples in 0.225626 seconds (9750.64930460142 inferences / s)\n",
      "Or 102.55727272727272 us / inferences\n",
      "Classified 2400 samples in 0.24364899999999998 seconds (9850.235379582926 inferences / s)\n",
      "Or 101.52041666666665 us / inferences\n",
      "Classified 2600 samples in 0.26274 seconds (9895.7143944584 inferences / s)\n",
      "Or 101.05384615384615 us / inferences\n",
      "Classified 2800 samples in 0.278057 seconds (10069.877758876777 inferences / s)\n",
      "Or 99.30607142857143 us / inferences\n",
      "Classified 3000 samples in 0.288124 seconds (10412.183643153643 inferences / s)\n",
      "Or 96.04133333333333 us / inferences\n",
      "Classified 3200 samples in 0.30380799999999997 seconds (10532.968190436066 inferences / s)\n",
      "Or 94.94 us / inferences\n",
      "Classified 3400 samples in 0.319077 seconds (10655.735136032996 inferences / s)\n",
      "Or 93.84617647058823 us / inferences\n",
      "Classified 3600 samples in 0.341545 seconds (10540.338754776092 inferences / s)\n",
      "Or 94.87361111111109 us / inferences\n",
      "Classified 3800 samples in 0.356995 seconds (10644.406784408746 inferences / s)\n",
      "Or 93.94605263157894 us / inferences\n",
      "Classified 4000 samples in 0.37567999999999996 seconds (10647.359454855197 inferences / s)\n",
      "Or 93.91999999999999 us / inferences\n",
      "Classified 4200 samples in 0.385528 seconds (10894.150360025731 inferences / s)\n",
      "Or 91.79238095238095 us / inferences\n",
      "Classified 4400 samples in 0.399858 seconds (11003.906386767303 inferences / s)\n",
      "Or 90.87681818181818 us / inferences\n",
      "Classified 4600 samples in 0.41463 seconds (11094.228589344717 inferences / s)\n",
      "Or 90.13695652173912 us / inferences\n",
      "Classified 4800 samples in 0.43122 seconds (11131.209127591485 inferences / s)\n",
      "Or 89.83749999999999 us / inferences\n",
      "Classified 5000 samples in 0.447376 seconds (11176.281248882371 inferences / s)\n",
      "Or 89.4752 us / inferences\n",
      "Classified 5200 samples in 0.46357299999999996 seconds (11217.21929448005 inferences / s)\n",
      "Or 89.14865384615385 us / inferences\n",
      "Classified 5400 samples in 0.479162 seconds (11269.674974225836 inferences / s)\n",
      "Or 88.7337037037037 us / inferences\n",
      "Classified 5600 samples in 0.494397 seconds (11326.929572792716 inferences / s)\n",
      "Or 88.28517857142856 us / inferences\n",
      "Classified 5800 samples in 0.510634 seconds (11358.428933443522 inferences / s)\n",
      "Or 88.04034482758622 us / inferences\n",
      "Classified 6000 samples in 0.5272939999999999 seconds (11378.85126703509 inferences / s)\n",
      "Or 87.88233333333332 us / inferences\n",
      "Classified 6200 samples in 0.5423479999999999 seconds (11431.774432652099 inferences / s)\n",
      "Or 87.47548387096774 us / inferences\n",
      "Classified 6400 samples in 0.559304 seconds (11442.793185816658 inferences / s)\n",
      "Or 87.39125000000001 us / inferences\n",
      "Classified 6600 samples in 0.575457 seconds (11469.145392270839 inferences / s)\n",
      "Or 87.19045454545454 us / inferences\n",
      "Classified 6800 samples in 0.593252 seconds (11462.245386446231 inferences / s)\n",
      "Or 87.2429411764706 us / inferences\n",
      "Classified 7000 samples in 0.607887 seconds (11515.298073490632 inferences / s)\n",
      "Or 86.84100000000001 us / inferences\n",
      "Classified 7200 samples in 0.623413 seconds (11549.326048702866 inferences / s)\n",
      "Or 86.5851388888889 us / inferences\n",
      "Classified 7400 samples in 0.638574 seconds (11588.320226003565 inferences / s)\n",
      "Or 86.29378378378378 us / inferences\n",
      "Classified 7600 samples in 0.655582 seconds (11592.752699128408 inferences / s)\n",
      "Or 86.26078947368421 us / inferences\n",
      "Classified 7800 samples in 0.672014 seconds (11606.901046704384 inferences / s)\n",
      "Or 86.15564102564102 us / inferences\n",
      "Classified 8000 samples in 0.6863389999999999 seconds (11656.047521705746 inferences / s)\n",
      "Or 85.792375 us / inferences\n",
      "Classified 8200 samples in 0.7036519999999999 seconds (11653.487803630205 inferences / s)\n",
      "Or 85.81121951219511 us / inferences\n",
      "Classified 8400 samples in 0.719411 seconds (11676.218462047425 inferences / s)\n",
      "Or 85.64416666666666 us / inferences\n",
      "Classified 8600 samples in 0.7342489999999999 seconds (11712.6478892038 inferences / s)\n",
      "Or 85.37779069767441 us / inferences\n",
      "Classified 8800 samples in 0.749954 seconds (11734.053021918677 inferences / s)\n",
      "Or 85.22204545454547 us / inferences\n",
      "Classified 9000 samples in 0.766679 seconds (11738.941590939625 inferences / s)\n",
      "Or 85.18655555555554 us / inferences\n",
      "Classified 9200 samples in 0.782748 seconds (11753.463439063402 inferences / s)\n",
      "Or 85.08130434782609 us / inferences\n",
      "Classified 9400 samples in 0.798657 seconds (11769.758482051746 inferences / s)\n",
      "Or 84.96351063829786 us / inferences\n",
      "Classified 9600 samples in 0.814113 seconds (11791.974824133751 inferences / s)\n",
      "Or 84.8034375 us / inferences\n",
      "Classified 9800 samples in 0.831596 seconds (11784.5684683428 inferences / s)\n",
      "Or 84.85673469387756 us / inferences\n",
      "Classified 10000 samples in 0.846548 seconds (11812.679257407732 inferences / s)\n",
      "Or 84.6548 us / inferences\n"
     ]
    }
   ],
   "source": [
    "rate_v  = []\n",
    "in_size = np.linspace(X.shape[0]/50, X.shape[0], 50, dtype=np.int32)\n",
    "for i in range(50):\n",
    "    N = int(((i+1)*X.shape[0]/50))\n",
    "    in_X = X[:N]\n",
    "    y, _, rate = overlay.predict(X=in_X, y_shape=(in_X.shape[0],10), dtype=np.float32, profile=True, debug=False)\n",
    "    rate_v.append(rate)"
   ]
  },
  {
   "cell_type": "code",
   "execution_count": 7,
   "metadata": {},
   "outputs": [
    {
     "data": {
      "text/plain": [
       "[<matplotlib.lines.Line2D at 0xae2f91b0>]"
      ]
     },
     "execution_count": 7,
     "metadata": {},
     "output_type": "execute_result"
    },
    {
     "data": {
      "image/png": "[encoded data removed]",
      "text/plain": [
       "<matplotlib.figure.Figure at 0xafbbc170>"
      ]
     },
     "metadata": {},
     "output_type": "display_data"
    }
   ],
   "source": [
    "plt.plot(in_size, rate_v)"
   ]
  },
  {
   "cell_type": "code",
   "execution_count": 12,
   "metadata": {},
   "outputs": [
    {
     "data": {
      "image/png": "[encoded data removed]",
      "text/plain": [
       "<matplotlib.figure.Figure at 0xae09bfd0>"
      ]
     },
     "metadata": {},
     "output_type": "display_data"
    },
    {
     "data": {
      "image/png": "[encoded data removed]",
      "text/plain": [
       "<matplotlib.figure.Figure at 0xae0b00b0>"
      ]
     },
     "metadata": {},
     "output_type": "display_data"
    },
    {
     "data": {
      "image/png": "[encoded data removed]",
      "text/plain": [
       "<matplotlib.figure.Figure at 0xae00c150>"
      ]
     },
     "metadata": {},
     "output_type": "display_data"
    },
    {
     "data": {
      "image/png": "[encoded data removed]",
      "text/plain": [
       "<matplotlib.figure.Figure at 0xae050630>"
      ]
     },
     "metadata": {},
     "output_type": "display_data"
    },
    {
     "data": {
      "image/png": "[encoded data removed]",
      "text/plain": [
       "<matplotlib.figure.Figure at 0xae077650>"
      ]
     },
     "metadata": {},
     "output_type": "display_data"
    },
    {
     "data": {
      "image/png": "[encoded data removed]",
      "text/plain": [
       "<matplotlib.figure.Figure at 0xae034830>"
      ]
     },
     "metadata": {},
     "output_type": "display_data"
    },
    {
     "data": {
      "image/png": "[encoded data removed]",
      "text/plain": [
       "<matplotlib.figure.Figure at 0xadba2970>"
      ]
     },
     "metadata": {},
     "output_type": "display_data"
    },
    {
     "data": {
      "image/png": "[encoded data removed]",
      "text/plain": [
       "<matplotlib.figure.Figure at 0xadfd2ef0>"
      ]
     },
     "metadata": {},
     "output_type": "display_data"
    },
    {
     "data": {
      "image/png": "[encoded data removed]",
      "text/plain": [
       "<matplotlib.figure.Figure at 0xae09b330>"
      ]
     },
     "metadata": {},
     "output_type": "display_data"
    },
    {
     "data": {
      "image/png": "[encoded data removed]",
      "text/plain": [
       "<matplotlib.figure.Figure at 0xae311cf0>"
      ]
     },
     "metadata": {},
     "output_type": "display_data"
    }
   ],
   "source": [
    "for i in range(10):\n",
    "    img_title = ('Predicted label: %d' % np.argmax(np.array(y[i])))\n",
    "    print_img(X[i], img_title)"
   ]
  },
  {
   "cell_type": "code",
   "execution_count": 19,
   "metadata": {},
   "outputs": [],
   "source": [
    "np.save('y_pynq_CNN.npy', y)"
   ]
  },
  {
   "cell_type": "markdown",
   "metadata": {},
   "source": [
    "## DNN"
   ]
  },
  {
   "cell_type": "code",
   "execution_count": 3,
   "metadata": {},
   "outputs": [
    {
     "data": {
      "text/plain": [
       "True"
      ]
     },
     "execution_count": 3,
     "metadata": {},
     "output_type": "execute_result"
    }
   ],
   "source": [
    "overlay = NeuralNetworkOverlay(bitfile_name='/home/xilinx/pynq/overlays/User_overlay/PYNQ_DMA_DNN_float.bit')\n",
    "overlay.is_loaded()"
   ]
  },
  {
   "cell_type": "code",
   "execution_count": 5,
   "metadata": {},
   "outputs": [
    {
     "name": "stdout",
     "output_type": "stream",
     "text": [
      "CPU:   650.000000MHz\n",
      "FCLK0: 166.666667MHz\n",
      "FCLK1: 100.000000MHz\n",
      "FCLK2: 100.000000MHz\n",
      "FCLK3: 100.000000MHz\n"
     ]
    }
   ],
   "source": [
    "from pynq import Clocks\n",
    "\n",
    "Clocks.fclk0_mhz = 166\n",
    "\n",
    "print(f'CPU:   {Clocks.cpu_mhz:.6f}MHz')\n",
    "print(f'FCLK0: {Clocks.fclk0_mhz:.6f}MHz')\n",
    "print(f'FCLK1: {Clocks.fclk1_mhz:.6f}MHz')\n",
    "print(f'FCLK2: {Clocks.fclk2_mhz:.6f}MHz')\n",
    "print(f'FCLK3: {Clocks.fclk3_mhz:.6f}MHz')"
   ]
  },
  {
   "cell_type": "code",
   "execution_count": 7,
   "metadata": {},
   "outputs": [
    {
     "name": "stdout",
     "output_type": "stream",
     "text": [
      "Classified 200 samples in 0.09989999999999999 seconds (2002.0020020020022 inferences / s)\n",
      "Or 499.49999999999994 us / inferences\n",
      "Classified 400 samples in 0.08945199999999999 seconds (4471.671958145151 inferences / s)\n",
      "Or 223.63 us / inferences\n",
      "Classified 600 samples in 0.102028 seconds (5880.73862077077 inferences / s)\n",
      "Or 170.04666666666665 us / inferences\n",
      "Classified 800 samples in 0.115753 seconds (6911.267958497836 inferences / s)\n",
      "Or 144.69125 us / inferences\n",
      "Classified 1000 samples in 0.11763799999999999 seconds (8500.65455040038 inferences / s)\n",
      "Or 117.638 us / inferences\n",
      "Classified 1200 samples in 0.131931 seconds (9095.663642358506 inferences / s)\n",
      "Or 109.9425 us / inferences\n",
      "Classified 1400 samples in 0.13708 seconds (10213.014298220018 inferences / s)\n",
      "Or 97.91428571428571 us / inferences\n",
      "Classified 1600 samples in 0.14959999999999998 seconds (10695.187165775402 inferences / s)\n",
      "Or 93.5 us / inferences\n",
      "Classified 1800 samples in 0.158558 seconds (11352.312718374349 inferences / s)\n",
      "Or 88.08777777777777 us / inferences\n",
      "Classified 2000 samples in 0.169061 seconds (11830.049508757194 inferences / s)\n",
      "Or 84.5305 us / inferences\n",
      "Classified 2200 samples in 0.177001 seconds (12429.308308992606 inferences / s)\n",
      "Or 80.45499999999998 us / inferences\n",
      "Classified 2400 samples in 0.188324 seconds (12743.994392642468 inferences / s)\n",
      "Or 78.46833333333333 us / inferences\n",
      "Classified 2600 samples in 0.19478399999999998 seconds (13348.118942007559 inferences / s)\n",
      "Or 74.91692307692307 us / inferences\n",
      "Classified 2800 samples in 0.211715 seconds (13225.326500247977 inferences / s)\n",
      "Or 75.61249999999998 us / inferences\n",
      "Classified 3000 samples in 0.222011 seconds (13512.843958182253 inferences / s)\n",
      "Or 74.00366666666666 us / inferences\n",
      "Classified 3200 samples in 0.22854 seconds (14001.925264723899 inferences / s)\n",
      "Or 71.41875 us / inferences\n",
      "Classified 3400 samples in 0.237094 seconds (14340.303845732073 inferences / s)\n",
      "Or 69.7335294117647 us / inferences\n",
      "Classified 3600 samples in 0.24609299999999998 seconds (14628.616011020225 inferences / s)\n",
      "Or 68.35916666666667 us / inferences\n",
      "Classified 3800 samples in 0.268281 seconds (14164.253152478186 inferences / s)\n",
      "Or 70.60026315789473 us / inferences\n",
      "Classified 4000 samples in 0.268025 seconds (14923.98097192426 inferences / s)\n",
      "Or 67.00625000000001 us / inferences\n",
      "Classified 4200 samples in 0.278441 seconds (15083.985476276841 inferences / s)\n",
      "Or 66.2954761904762 us / inferences\n",
      "Classified 4400 samples in 0.280847 seconds (15666.893361866069 inferences / s)\n",
      "Or 63.828863636363636 us / inferences\n",
      "Classified 4600 samples in 0.290971 seconds (15809.135618326227 inferences / s)\n",
      "Or 63.254565217391296 us / inferences\n",
      "Classified 4800 samples in 0.30144 seconds (15923.566878980893 inferences / s)\n",
      "Or 62.8 us / inferences\n",
      "Classified 5000 samples in 0.312569 seconds (15996.467979870045 inferences / s)\n",
      "Or 62.51379999999999 us / inferences\n",
      "Classified 5200 samples in 0.321699 seconds (16164.178315754789 inferences / s)\n",
      "Or 61.865192307692304 us / inferences\n",
      "Classified 5400 samples in 0.33202699999999996 seconds (16263.737587605829 inferences / s)\n",
      "Or 61.486481481481476 us / inferences\n",
      "Classified 5600 samples in 0.3429 seconds (16331.291921843103 inferences / s)\n",
      "Or 61.23214285714285 us / inferences\n",
      "Classified 5800 samples in 0.353529 seconds (16406.00912513542 inferences / s)\n",
      "Or 60.95327586206896 us / inferences\n",
      "Classified 6000 samples in 0.364467 seconds (16462.395772456766 inferences / s)\n",
      "Or 60.7445 us / inferences\n",
      "Classified 6200 samples in 0.374521 seconds (16554.478921075188 inferences / s)\n",
      "Or 60.4066129032258 us / inferences\n",
      "Classified 6400 samples in 0.385496 seconds (16601.988088073547 inferences / s)\n",
      "Or 60.23374999999999 us / inferences\n",
      "Classified 6600 samples in 0.39525 seconds (16698.292220113854 inferences / s)\n",
      "Or 59.88636363636363 us / inferences\n",
      "Classified 6800 samples in 0.410788 seconds (16553.55073663301 inferences / s)\n",
      "Or 60.40999999999999 us / inferences\n",
      "Classified 7000 samples in 0.417135 seconds (16781.138000887004 inferences / s)\n",
      "Or 59.590714285714284 us / inferences\n",
      "Classified 7200 samples in 0.42746999999999996 seconds (16843.28724822795 inferences / s)\n",
      "Or 59.37083333333332 us / inferences\n",
      "Classified 7400 samples in 0.470744 seconds (15719.796747276652 inferences / s)\n",
      "Or 63.61405405405406 us / inferences\n",
      "Classified 7600 samples in 0.449982 seconds (16889.564471467747 inferences / s)\n",
      "Or 59.20815789473684 us / inferences\n",
      "Classified 7800 samples in 0.459235 seconds (16984.76814702712 inferences / s)\n",
      "Or 58.876282051282054 us / inferences\n",
      "Classified 8000 samples in 0.5005269999999999 seconds (15983.153755941239 inferences / s)\n",
      "Or 62.565875 us / inferences\n",
      "Classified 8200 samples in 0.481049 seconds (17046.080544809363 inferences / s)\n",
      "Or 58.66451219512195 us / inferences\n",
      "Classified 8400 samples in 0.491064 seconds (17105.713308244955 inferences / s)\n",
      "Or 58.46 us / inferences\n",
      "Classified 8600 samples in 0.500927 seconds (17168.17021242616 inferences / s)\n",
      "Or 58.24732558139535 us / inferences\n",
      "Classified 8800 samples in 0.547091 seconds (16085.075426208803 inferences / s)\n",
      "Or 62.16943181818182 us / inferences\n",
      "Classified 9000 samples in 0.522362 seconds (17229.43093104016 inferences / s)\n",
      "Or 58.040222222222226 us / inferences\n",
      "Classified 9200 samples in 0.53404 seconds (17227.173994457346 inferences / s)\n",
      "Or 58.04782608695652 us / inferences\n",
      "Classified 9400 samples in 0.568932 seconds (16522.185428135523 inferences / s)\n",
      "Or 60.524680851063835 us / inferences\n",
      "Classified 9600 samples in 0.5550039999999999 seconds (17297.172632990034 inferences / s)\n",
      "Or 57.81291666666666 us / inferences\n",
      "Classified 9800 samples in 0.5678449999999999 seconds (17258.2306791466 inferences / s)\n",
      "Or 57.943367346938764 us / inferences\n",
      "Classified 10000 samples in 0.601916 seconds (16613.613859741225 inferences / s)\n",
      "Or 60.19160000000001 us / inferences\n"
     ]
    }
   ],
   "source": [
    "rate_v  = []\n",
    "in_size = np.linspace(X.shape[0]/50, X.shape[0], 50, dtype=np.int32)\n",
    "for i in range(50):\n",
    "    N = int(((i+1)*X.shape[0]/50))\n",
    "    in_X = X[:N]\n",
    "    y, _, rate = overlay.predict(X=in_X, y_shape=(in_X.shape[0],10), dtype=np.float32, profile=True, debug=False)\n",
    "    rate_v.append(rate)"
   ]
  },
  {
   "cell_type": "code",
   "execution_count": 8,
   "metadata": {},
   "outputs": [
    {
     "data": {
      "text/plain": [
       "[<matplotlib.lines.Line2D at 0xae302330>]"
      ]
     },
     "execution_count": 8,
     "metadata": {},
     "output_type": "execute_result"
    },
    {
     "data": {
      "image/png": "[encoded data removed]",
      "text/plain": [
       "<matplotlib.figure.Figure at 0xb3aa2230>"
      ]
     },
     "metadata": {},
     "output_type": "display_data"
    }
   ],
   "source": [
    "plt.plot(in_size, rate_v)"
   ]
  },
  {
   "cell_type": "code",
   "execution_count": 9,
   "metadata": {},
   "outputs": [
    {
     "name": "stdout",
     "output_type": "stream",
     "text": [
      "Classified 10000 samples in 0.592712 seconds (16871.600372524936 inferences / s)\n",
      "Or 59.2712 us / inferences\n"
     ]
    }
   ],
   "source": [
    "y, _, _ = overlay.predict(X=X, y_shape=(X.shape[0],10), dtype=np.float32, profile=True, debug=False)"
   ]
  },
  {
   "cell_type": "code",
   "execution_count": 10,
   "metadata": {},
   "outputs": [
    {
     "data": {
      "image/png": "[encoded data removed]",
      "text/plain": [
       "<matplotlib.figure.Figure at 0xae1d50d0>"
      ]
     },
     "metadata": {},
     "output_type": "display_data"
    },
    {
     "data": {
      "image/png": "[encoded data removed]",
      "text/plain": [
       "<matplotlib.figure.Figure at 0xae203970>"
      ]
     },
     "metadata": {},
     "output_type": "display_data"
    },
    {
     "data": {
      "image/png": "[encoded data removed]",
      "text/plain": [
       "<matplotlib.figure.Figure at 0xae302d90>"
      ]
     },
     "metadata": {},
     "output_type": "display_data"
    },
    {
     "data": {
      "image/png": "[encoded data removed]",
      "text/plain": [
       "<matplotlib.figure.Figure at 0xae166750>"
      ]
     },
     "metadata": {},
     "output_type": "display_data"
    },
    {
     "data": {
      "image/png": "[encoded data removed]",
      "text/plain": [
       "<matplotlib.figure.Figure at 0xae193750>"
      ]
     },
     "metadata": {},
     "output_type": "display_data"
    },
    {
     "data": {
      "image/png": "[encoded data removed]",
      "text/plain": [
       "<matplotlib.figure.Figure at 0xae166170>"
      ]
     },
     "metadata": {},
     "output_type": "display_data"
    },
    {
     "data": {
      "image/png": "[encoded data removed]",
      "text/plain": [
       "<matplotlib.figure.Figure at 0xae2658f0>"
      ]
     },
     "metadata": {},
     "output_type": "display_data"
    },
    {
     "data": {
      "image/png": "[encoded data removed]",
      "text/plain": [
       "<matplotlib.figure.Figure at 0xae17d170>"
      ]
     },
     "metadata": {},
     "output_type": "display_data"
    },
    {
     "data": {
      "image/png": "[encoded data removed]",
      "text/plain": [
       "<matplotlib.figure.Figure at 0xae265fb0>"
      ]
     },
     "metadata": {},
     "output_type": "display_data"
    },
    {
     "data": {
      "image/png": "[encoded data removed]",
      "text/plain": [
       "<matplotlib.figure.Figure at 0xae24db90>"
      ]
     },
     "metadata": {},
     "output_type": "display_data"
    }
   ],
   "source": [
    "for i in range(10):\n",
    "    img_title = ('Predicted label: %d' % np.argmax(np.array(y[i])))\n",
    "    print_img(X[i], img_title)"
   ]
  },
  {
   "cell_type": "code",
   "execution_count": 11,
   "metadata": {},
   "outputs": [],
   "source": [
    "np.save('y_pynq_DNN.npy', y)"
   ]
  },
  {
   "cell_type": "code",
   "execution_count": null,
   "metadata": {},
   "outputs": [],
   "source": []
  }
 ],
 "metadata": {
  "kernelspec": {
   "display_name": "Python 3",
   "language": "python",
   "name": "python3"
  },
  "language_info": {
   "codemirror_mode": {
    "name": "ipython",
    "version": 3
   },
   "file_extension": ".py",
   "mimetype": "text/x-python",
   "name": "python",
   "nbconvert_exporter": "python",
   "pygments_lexer": "ipython3",
   "version": "3.6.5"
  }
 },
 "nbformat": 4,
 "nbformat_minor": 2
}
