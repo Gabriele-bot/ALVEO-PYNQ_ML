{
 "cells": [
  {
   "cell_type": "code",
   "execution_count": 1,
   "id": "b494dc79-522d-4d70-a44c-edc89d298507",
   "metadata": {},
   "outputs": [
    {
     "name": "stdout",
     "output_type": "stream",
     "text": [
      "XILINX_XRT        : /opt/xilinx/xrt\n",
      "PATH              : /opt/xilinx/xrt/bin:/opt/xilinx/xrt/bin:/home/ubuntu/anaconda3/envs/hls4ml_env/bin:/home/ubuntu/anaconda3/condabin:/home/ubuntu/.local/bin:/usr/local/sbin:/usr/local/bin:/usr/sbin:/usr/bin:/sbin:/bin:/usr/games:/usr/local/games:/snap/bin\n",
      "LD_LIBRARY_PATH   : /opt/xilinx/xrt/lib:/opt/xilinx/xrt/lib:\n",
      "PYTHONPATH        : /opt/xilinx/xrt/python:/opt/xilinx/xrt/python:\n"
     ]
    }
   ],
   "source": [
    "!source /opt/xilinx/xrt/setup.sh"
   ]
  },
  {
   "cell_type": "code",
   "execution_count": 2,
   "id": "280e41ae-fd81-4b53-b27f-ca8d9df3f6b0",
   "metadata": {},
   "outputs": [
    {
     "name": "stdout",
     "output_type": "stream",
     "text": [
      "\n",
      "------------------------------------------------------\n",
      "1/1 [0000:08:00.1] : xilinx_u50_gen3x16_xdma_201920_3\n",
      "------------------------------------------------------\n",
      "Thermals\n",
      "  PCB Top Front          : 43 C\n",
      "  PCB Top Rear           : 45 C\n",
      "  FPGA                   : 53 C\n",
      "  FPGA HBM               : 48 C\n",
      "\n"
     ]
    }
   ],
   "source": [
    "!xbutil examine -d0000:08:00.1 -r thermal"
   ]
  },
  {
   "cell_type": "code",
   "execution_count": 3,
   "id": "ab35f890-50d6-49b7-8fb9-52870d68647c",
   "metadata": {},
   "outputs": [
    {
     "name": "stderr",
     "output_type": "stream",
     "text": [
      "/home/ubuntu/anaconda3/envs/hls4ml_env/lib/python3.9/site-packages/pynq/pl_server/xrt_device.py:88: UserWarning: xbutil failed to run - unable to determine XRT version\n",
      "  warnings.warn(\n"
     ]
    },
    {
     "data": {
      "application/javascript": [
       "\n",
       "try {\n",
       "require(['notebook/js/codecell'], function(codecell) {\n",
       "  codecell.CodeCell.options_default.highlight_modes[\n",
       "      'magic_text/x-csrc'] = {'reg':[/^%%microblaze/]};\n",
       "  Jupyter.notebook.events.one('kernel_ready.Kernel', function(){\n",
       "      Jupyter.notebook.get_cells().map(function(cell){\n",
       "          if (cell.cell_type == 'code'){ cell.auto_highlight(); } }) ;\n",
       "  });\n",
       "});\n",
       "} catch (e) {};\n"
      ]
     },
     "metadata": {},
     "output_type": "display_data"
    },
    {
     "data": {
      "application/javascript": [
       "\n",
       "try {\n",
       "require(['notebook/js/codecell'], function(codecell) {\n",
       "  codecell.CodeCell.options_default.highlight_modes[\n",
       "      'magic_text/x-csrc'] = {'reg':[/^%%pybind11/]};\n",
       "  Jupyter.notebook.events.one('kernel_ready.Kernel', function(){\n",
       "      Jupyter.notebook.get_cells().map(function(cell){\n",
       "          if (cell.cell_type == 'code'){ cell.auto_highlight(); } }) ;\n",
       "  });\n",
       "});\n",
       "} catch (e) {};\n"
      ]
     },
     "metadata": {},
     "output_type": "display_data"
    }
   ],
   "source": [
    "import pynq\n",
    "import numpy as np\n",
    "\n",
    "from pynq import allocate\n",
    "from pynq import Overlay\n",
    "\n",
    "from matplotlib import pyplot as plt\n",
    "from datetime import datetime"
   ]
  },
  {
   "cell_type": "code",
   "execution_count": 4,
   "id": "e7a50039-c82b-49ae-97ac-03dce93b566e",
   "metadata": {},
   "outputs": [],
   "source": [
    "class NeuralNetworkOverlay(Overlay):\n",
    "    def __init__(self, xclbin_name, dtbo=None, download=True, ignore_version=False, device=None):\n",
    "\n",
    "        super().__init__(xclbin_name, dtbo=dtbo, download=download, ignore_version=ignore_version, device=device)\n",
    "\n",
    "    def allocate_mem(self, X_shape, y_shape, dtype=np.float32, trg_in=None, trg_out=None):\n",
    "        \"\"\"\n",
    "        Buffer allocation in the card memory\n",
    "        Parameters\n",
    "        ----------\n",
    "        X_shape : input buffer shape.\n",
    "        y_shape : output buffer shape.\n",
    "        dtype   : the data type of the elements of the input/output vectors.\n",
    "                  Note: it should be set depending on the interface of the accelerator; if it uses 'float'\n",
    "                  types for the 'data' AXI-Stream field, 'np.float32' dtype is the correct one to use.\n",
    "                  Instead if it uses 'ap_fixed<A,B>', 'np.intA' is the correct one to use (note that A cannot\n",
    "                  any integer value, but it can assume {..., 8, 16, 32, ...} values. Check `numpy`\n",
    "                  doc for more info).\n",
    "                  In this case the encoding/decoding has to be computed by the host machine. For example for\n",
    "                  'ap_fixed<16,6>' type the following 2 functions are the correct one to use for encode/decode\n",
    "                  'float' -> 'ap_fixed<16,6>':\n",
    "                  ```\n",
    "                    def encode(xi):\n",
    "                        return np.int16(round(xi * 2**10)) # note 2**10 = 2**(A-B)\n",
    "                    def decode(yi):\n",
    "                        return yi * 2**-10\n",
    "                    encode_v = np.vectorize(encode) # to apply them element-wise\n",
    "                    decode_v = np.vectorize(decode)\n",
    "                  ```\n",
    "        trg_in  : input buffer target memory, alveo-u50 has 32 bank of HBM 256 MB each. By default the v++ command\n",
    "                  set it to HBM[0].\n",
    "        trg_out : output buffer target memory, alveo-u50 has 32 bank of HBM 256 MB each. By default the v++ command\n",
    "                  set it to HBM[0].\n",
    "\n",
    "        Returns\n",
    "        -------\n",
    "        input_buffer, output_buffer : input and output PYNQ buffers\n",
    "\n",
    "        \"\"\"\n",
    "        input_buffer  = allocate(shape=X_shape, dtype=dtype, target=trg_in )\n",
    "        output_buffer = allocate(shape=y_shape, dtype=dtype, target=trg_out)\n",
    "        return input_buffer, output_buffer\n",
    "\n",
    "    def predict(self, X, y_shape, input_buffer, output_buffer, debug=None, profile=False, encode=None,\n",
    "                decode=None):\n",
    "        \"\"\"\n",
    "        Obtain the predictions of the NN implemented in the FPGA.\n",
    "        Parameters:\n",
    "        - X : the input vector. Should be numpy ndarray.\n",
    "        - y_shape : the shape of the output vector. Needed to the accelerator to set the TLAST bit properly and\n",
    "                    for sizing the output vector shape.\n",
    "        - input_buffer : input PYNQ buffer, must be allocated first and just once.\n",
    "        - output_buffer : output PYNQ buffer, must be allocated first and just once.\n",
    "        - debug : boolean, if set the function will print information about the data transfers status.\n",
    "        - profile : boolean. Set it to `True` to print the performance of the algorithm in term of `inference/s`.\n",
    "        - encode/decode: function pointers. See `dtype` section for more information.\n",
    "        - return: an output array based on `np.ndarray` with a shape equal to `y_shape` and a `dtype` equal to\n",
    "                  the namesake parameter.\n",
    "        \"\"\"\n",
    "        if profile:\n",
    "            timea = datetime.now()\n",
    "        if encode is not None:\n",
    "            X = encode(X)\n",
    "        in_size  = np.prod(X.shape)\n",
    "        out_size = np.prod(y_shape)\n",
    "        input_buffer[:] = X\n",
    "        input_buffer.sync_to_device()\n",
    "        if debug:\n",
    "            print(\"Send OK\")\n",
    "        self.krnl_rtl_1.call(input_buffer, output_buffer, in_size, out_size)\n",
    "        if debug:\n",
    "            print(\"Kernel call OK\")\n",
    "        output_buffer.sync_from_device()\n",
    "        if debug:\n",
    "            print(\"Recieve OK\")\n",
    "        result = output_buffer.copy()\n",
    "        if profile:\n",
    "            timeb = datetime.now()\n",
    "            dts, rate = self._print_dt(timea, timeb, len(X))\n",
    "            input_buffer.flush()\n",
    "            output_buffer.flush()\n",
    "            del input_buffer\n",
    "            del output_buffer\n",
    "            self.free()\n",
    "            return result, dts, rate\n",
    "        input_buffer.flush()\n",
    "        output_buffer.flush()\n",
    "        del input_buffer\n",
    "        del output_buffer\n",
    "        return result\n",
    "\n",
    "    def free_overlay(self):\n",
    "        self.free()\n",
    "\n",
    "    def _print_dt(self, timea, timeb, N):\n",
    "        dt = (timeb - timea)\n",
    "        dts = dt.seconds + dt.microseconds * 10 ** -6\n",
    "        rate = N / dts\n",
    "        print(\"Classified {} samples in {} seconds ({} inferences / s)\".format(N, dts, rate))\n",
    "        print(\"Or {} us / inferences\".format(1 / rate * 1e6))\n",
    "        return dts, rate\n"
   ]
  },
  {
   "cell_type": "code",
   "execution_count": 5,
   "id": "a5a8c7ea-1b4a-4188-9ef2-ad5891f213fa",
   "metadata": {},
   "outputs": [],
   "source": [
    "def print_img(matrix, title=\"Label\"):\n",
    "    plt.imshow(matrix, cmap='gray')\n",
    "    plt.title(title)\n",
    "    plt.show()"
   ]
  },
  {
   "cell_type": "code",
   "execution_count": 6,
   "id": "1aecef33-3ca4-4e02-8a5b-cd07ce6e5de6",
   "metadata": {},
   "outputs": [],
   "source": [
    "ol = NeuralNetworkOverlay(xclbin_name=\"CNN_kernel.xclbin\")"
   ]
  },
  {
   "cell_type": "code",
   "execution_count": 7,
   "id": "09175ec4-5dea-44a6-8571-156e2a58fbbf",
   "metadata": {},
   "outputs": [
    {
     "data": {
      "text/plain": [
       "\u001b[0;31mType:\u001b[0m        DefaultIP\n",
       "\u001b[0;31mString form:\u001b[0m <pynq.overlay.DefaultIP object at 0x7f52ec72bcd0>\n",
       "\u001b[0;31mFile:\u001b[0m        ~/anaconda3/envs/hls4ml_env/lib/python3.9/site-packages/pynq/overlay.py\n",
       "\u001b[0;31mDocstring:\u001b[0m  \n",
       "Driver for an IP without a more specific driver\n",
       "\n",
       "This driver wraps an MMIO device and provides a base class\n",
       "for more specific drivers written later. It also provides\n",
       "access to GPIO outputs and interrupts inputs via attributes. More specific\n",
       "drivers should inherit from `DefaultIP` and include a\n",
       "`bindto` entry containing all of the IP that the driver\n",
       "should bind to. Subclasses meeting these requirements will\n",
       "automatically be registered.\n",
       "\n",
       "Attributes\n",
       "----------\n",
       "mmio : pynq.MMIO\n",
       "    Underlying MMIO driver for the device\n",
       "_interrupts : dict\n",
       "    Subset of the PL.interrupt_pins related to this IP\n",
       "_gpio : dict\n",
       "    Subset of the PL.gpio_dict related to this IP\n"
      ]
     },
     "metadata": {},
     "output_type": "display_data"
    }
   ],
   "source": [
    "ol.krnl_rtl_1?"
   ]
  },
  {
   "cell_type": "code",
   "execution_count": 8,
   "id": "18d80ed7-ffab-454c-9a38-447a028198ab",
   "metadata": {},
   "outputs": [
    {
     "data": {
      "text/plain": [
       "RegisterMap {\n",
       "  CTRL = Register(AP_START=0, AP_DONE=0, AP_IDLE=1, AP_READY=0, AUTO_RESTART=0),\n",
       "  fifo_in = Register(value=0),\n",
       "  fifo_out = Register(value=0),\n",
       "  length_r_in = Register(value=0),\n",
       "  length_r_out = Register(value=0)\n",
       "}"
      ]
     },
     "execution_count": 8,
     "metadata": {},
     "output_type": "execute_result"
    }
   ],
   "source": [
    "ol.krnl_rtl_1.register_map"
   ]
  },
  {
   "cell_type": "code",
   "execution_count": 9,
   "id": "561bff75-e525-4698-ba05-f66dfe67411d",
   "metadata": {},
   "outputs": [
    {
     "data": {
      "text/plain": [
       "<Signature (fifo_in: 'void*', fifo_out: 'void*', length_r_in: 'int', length_r_out: 'int')>"
      ]
     },
     "execution_count": 9,
     "metadata": {},
     "output_type": "execute_result"
    }
   ],
   "source": [
    "ol.krnl_rtl_1.signature"
   ]
  },
  {
   "cell_type": "code",
   "execution_count": 10,
   "id": "c4c3afda-5ce4-462d-b38e-5e5a1cb0e384",
   "metadata": {},
   "outputs": [],
   "source": [
    "X_test = np.load(\"../NN_train/MNIST_Test/Data/X_test.npy\")\n",
    "X_test = np.asarray(X_test, dtype = np.float32)"
   ]
  },
  {
   "cell_type": "code",
   "execution_count": 11,
   "id": "99c5787d-53b9-46ae-8065-d355aa9f40e6",
   "metadata": {},
   "outputs": [],
   "source": [
    "i_buff, o_buff = ol.allocate_mem(X_shape=X_test.shape, y_shape=(X_test.shape[0],10), dtype=np.float32, trg_in=ol.HBM0, trg_out=ol.HBM0)"
   ]
  },
  {
   "cell_type": "code",
   "execution_count": 12,
   "id": "61b1fa3e-2381-4273-97e9-284c7bdab2c7",
   "metadata": {},
   "outputs": [
    {
     "name": "stdout",
     "output_type": "stream",
     "text": [
      "Classified 10000 samples in 0.187366 seconds (53371.47614828731 inferences / s)\n",
      "Or 18.7366 us / inferences\n"
     ]
    }
   ],
   "source": [
    "y, _, rate = ol.predict(X=X_test, y_shape=(X_test.shape[0],10), input_buffer=i_buff, output_buffer=o_buff, profile=True, debug=False)"
   ]
  },
  {
   "cell_type": "code",
   "execution_count": 13,
   "id": "2fecd59b-3946-45a9-9cce-0ef82662515f",
   "metadata": {},
   "outputs": [],
   "source": [
    "np.save(\"../NN_train/MNIST_Test/Data/y_alveo_CNN.npy\", y)"
   ]
  },
  {
   "cell_type": "code",
   "execution_count": 14,
   "id": "c73e2420-4bf8-45bb-b5e1-d5855e281601",
   "metadata": {},
   "outputs": [],
   "source": [
    "ol.free_overlay()"
   ]
  },
  {
   "cell_type": "code",
   "execution_count": 15,
   "id": "b0e47b7b",
   "metadata": {
    "collapsed": false,
    "jupyter": {
     "outputs_hidden": false
    },
    "pycharm": {
     "name": "#%%\n"
    }
   },
   "outputs": [],
   "source": [
    "i_buff, o_buff = ol.allocate_mem(X_shape=X_test.shape, y_shape=(X_test.shape[0],10), dtype=np.float32, trg_in=ol.HBM0, trg_out=ol.HBM0)"
   ]
  },
  {
   "cell_type": "code",
   "execution_count": 16,
   "id": "e3acd263-3618-481f-b134-726ad6ae15b2",
   "metadata": {},
   "outputs": [
    {
     "name": "stdout",
     "output_type": "stream",
     "text": [
      "Classified 100 samples in 0.00421 seconds (23752.96912114014 inferences / s)\n",
      "Or 42.10000000000001 us / inferences\n",
      "Classified 200 samples in 0.005429 seconds (36839.19690550746 inferences / s)\n",
      "Or 27.145000000000003 us / inferences\n",
      "Classified 300 samples in 0.007032 seconds (42662.11604095563 inferences / s)\n",
      "Or 23.439999999999998 us / inferences\n",
      "Classified 400 samples in 0.008674 seconds (46114.825916532165 inferences / s)\n",
      "Or 21.685 us / inferences\n",
      "Classified 500 samples in 0.010665 seconds (46882.32536333802 inferences / s)\n",
      "Or 21.330000000000002 us / inferences\n",
      "Classified 600 samples in 0.012192999999999999 seconds (49208.56228983844 inferences / s)\n",
      "Or 20.321666666666662 us / inferences\n",
      "Classified 700 samples in 0.013982999999999999 seconds (50060.78809983552 inferences / s)\n",
      "Or 19.975714285714282 us / inferences\n",
      "Classified 800 samples in 0.015653 seconds (51108.41372260908 inferences / s)\n",
      "Or 19.56625 us / inferences\n",
      "Classified 900 samples in 0.017542 seconds (51305.43837646791 inferences / s)\n",
      "Or 19.49111111111111 us / inferences\n",
      "Classified 1000 samples in 0.019183 seconds (52129.48965229631 inferences / s)\n",
      "Or 19.183 us / inferences\n",
      "Classified 1100 samples in 0.021167 seconds (51967.68554825908 inferences / s)\n",
      "Or 19.242727272727272 us / inferences\n",
      "Classified 1200 samples in 0.027025 seconds (44403.33024976873 inferences / s)\n",
      "Or 22.520833333333332 us / inferences\n",
      "Classified 1300 samples in 0.02701 seconds (48130.322102924845 inferences / s)\n",
      "Or 20.776923076923076 us / inferences\n",
      "Classified 1400 samples in 0.026257 seconds (53319.114902692614 inferences / s)\n",
      "Or 18.755 us / inferences\n",
      "Classified 1500 samples in 0.028016 seconds (53540.83380925186 inferences / s)\n",
      "Or 18.677333333333333 us / inferences\n",
      "Classified 1600 samples in 0.029457999999999998 seconds (54314.61742141354 inferences / s)\n",
      "Or 18.411250000000003 us / inferences\n",
      "Classified 1700 samples in 0.031506 seconds (53957.976258490446 inferences / s)\n",
      "Or 18.53294117647059 us / inferences\n",
      "Classified 1800 samples in 0.033393 seconds (53903.51271224508 inferences / s)\n",
      "Or 18.551666666666666 us / inferences\n",
      "Classified 1900 samples in 0.034902999999999997 seconds (54436.581382689175 inferences / s)\n",
      "Or 18.369999999999997 us / inferences\n",
      "Classified 2000 samples in 0.036833 seconds (54299.13392881384 inferences / s)\n",
      "Or 18.4165 us / inferences\n",
      "Classified 2100 samples in 0.038633 seconds (54357.67349157456 inferences / s)\n",
      "Or 18.396666666666665 us / inferences\n",
      "Classified 2200 samples in 0.040695999999999996 seconds (54059.36701395715 inferences / s)\n",
      "Or 18.49818181818182 us / inferences\n",
      "Classified 2300 samples in 0.042383 seconds (54267.0410306019 inferences / s)\n",
      "Or 18.427391304347825 us / inferences\n",
      "Classified 2400 samples in 0.044153 seconds (54356.44237084683 inferences / s)\n",
      "Or 18.397083333333335 us / inferences\n",
      "Classified 2500 samples in 0.045841 seconds (54536.33210444798 inferences / s)\n",
      "Or 18.3364 us / inferences\n",
      "Classified 2600 samples in 0.047656 seconds (54557.66325331543 inferences / s)\n",
      "Or 18.32923076923077 us / inferences\n",
      "Classified 2700 samples in 0.049784999999999996 seconds (54233.202771919256 inferences / s)\n",
      "Or 18.43888888888889 us / inferences\n",
      "Classified 2800 samples in 0.051516 seconds (54352.04596630173 inferences / s)\n",
      "Or 18.39857142857143 us / inferences\n",
      "Classified 2900 samples in 0.054365 seconds (53343.14356663295 inferences / s)\n",
      "Or 18.74655172413793 us / inferences\n",
      "Classified 3000 samples in 0.055929 seconds (53639.4357131363 inferences / s)\n",
      "Or 18.643 us / inferences\n",
      "Classified 3100 samples in 0.057375999999999996 seconds (54029.55939765756 inferences / s)\n",
      "Or 18.508387096774193 us / inferences\n",
      "Classified 3200 samples in 0.059327 seconds (53938.34173310635 inferences / s)\n",
      "Or 18.539687499999996 us / inferences\n",
      "Classified 3300 samples in 0.060698999999999996 seconds (54366.62877477389 inferences / s)\n",
      "Or 18.39363636363636 us / inferences\n",
      "Classified 3400 samples in 0.062521 seconds (54381.72773947954 inferences / s)\n",
      "Or 18.388529411764704 us / inferences\n",
      "Classified 3500 samples in 0.064912 seconds (53919.15208281982 inferences / s)\n",
      "Or 18.546285714285716 us / inferences\n",
      "Classified 3600 samples in 0.066331 seconds (54273.265893775155 inferences / s)\n",
      "Or 18.42527777777778 us / inferences\n",
      "Classified 3700 samples in 0.06829099999999999 seconds (54179.90657626921 inferences / s)\n",
      "Or 18.45702702702702 us / inferences\n",
      "Classified 3800 samples in 0.069927 seconds (54342.385630729186 inferences / s)\n",
      "Or 18.401842105263157 us / inferences\n",
      "Classified 3900 samples in 0.071846 seconds (54282.77148345072 inferences / s)\n",
      "Or 18.422051282051278 us / inferences\n",
      "Classified 4000 samples in 0.073437 seconds (54468.4559554448 inferences / s)\n",
      "Or 18.359250000000003 us / inferences\n",
      "Classified 4100 samples in 0.075491 seconds (54311.10993363447 inferences / s)\n",
      "Or 18.412439024390245 us / inferences\n",
      "Classified 4200 samples in 0.07725599999999999 seconds (54364.70953712334 inferences / s)\n",
      "Or 18.394285714285715 us / inferences\n",
      "Classified 4300 samples in 0.07892199999999999 seconds (54484.174247991694 inferences / s)\n",
      "Or 18.353953488372092 us / inferences\n",
      "Classified 4400 samples in 0.080644 seconds (54560.78567531373 inferences / s)\n",
      "Or 18.328181818181815 us / inferences\n",
      "Classified 4500 samples in 0.082512 seconds (54537.521815008724 inferences / s)\n",
      "Or 18.336000000000002 us / inferences\n",
      "Classified 4600 samples in 0.084266 seconds (54589.03947024898 inferences / s)\n",
      "Or 18.31869565217391 us / inferences\n",
      "Classified 4700 samples in 0.085836 seconds (54755.58040915234 inferences / s)\n",
      "Or 18.262978723404256 us / inferences\n",
      "Classified 4800 samples in 0.08867599999999999 seconds (54129.64048897109 inferences / s)\n",
      "Or 18.474166666666665 us / inferences\n",
      "Classified 4900 samples in 0.091125 seconds (53772.290809327846 inferences / s)\n",
      "Or 18.596938775510207 us / inferences\n",
      "Classified 5000 samples in 0.08982699999999999 seconds (55662.55134870362 inferences / s)\n",
      "Or 17.9654 us / inferences\n",
      "Classified 5100 samples in 0.09170299999999999 seconds (55614.32014219819 inferences / s)\n",
      "Or 17.980980392156862 us / inferences\n",
      "Classified 5200 samples in 0.09317299999999999 seconds (55810.159595591 inferences / s)\n",
      "Or 17.917884615384615 us / inferences\n",
      "Classified 5300 samples in 0.09543 seconds (55538.0907471445 inferences / s)\n",
      "Or 18.005660377358492 us / inferences\n",
      "Classified 5400 samples in 0.09683599999999999 seconds (55764.38514602008 inferences / s)\n",
      "Or 17.93259259259259 us / inferences\n",
      "Classified 5500 samples in 0.098658 seconds (55748.14003932778 inferences / s)\n",
      "Or 17.937818181818184 us / inferences\n",
      "Classified 5600 samples in 0.10028 seconds (55843.63781412047 inferences / s)\n",
      "Or 17.907142857142855 us / inferences\n",
      "Classified 5700 samples in 0.102129 seconds (55811.76747055195 inferences / s)\n",
      "Or 17.91736842105263 us / inferences\n",
      "Classified 5800 samples in 0.103826 seconds (55862.69335233949 inferences / s)\n",
      "Or 17.90103448275862 us / inferences\n",
      "Classified 5900 samples in 0.105559 seconds (55892.91296810315 inferences / s)\n",
      "Or 17.89135593220339 us / inferences\n",
      "Classified 6000 samples in 0.10740999999999999 seconds (55860.720603295784 inferences / s)\n",
      "Or 17.901666666666664 us / inferences\n",
      "Classified 6100 samples in 0.109063 seconds (55930.97567461009 inferences / s)\n",
      "Or 17.879180327868852 us / inferences\n",
      "Classified 6200 samples in 0.110778 seconds (55967.79143873332 inferences / s)\n",
      "Or 17.86741935483871 us / inferences\n",
      "Classified 6300 samples in 0.11252 seconds (55990.046214006405 inferences / s)\n",
      "Or 17.860317460317457 us / inferences\n",
      "Classified 6400 samples in 0.11415299999999999 seconds (56065.10560388251 inferences / s)\n",
      "Or 17.83640625 us / inferences\n",
      "Classified 6500 samples in 0.116004 seconds (56032.55060170339 inferences / s)\n",
      "Or 17.84676923076923 us / inferences\n",
      "Classified 6600 samples in 0.11781399999999999 seconds (56020.5069007079 inferences / s)\n",
      "Or 17.850606060606058 us / inferences\n",
      "Classified 6700 samples in 0.119695 seconds (55975.60466184887 inferences / s)\n",
      "Or 17.864925373134326 us / inferences\n",
      "Classified 6800 samples in 0.12119999999999999 seconds (56105.61056105611 inferences / s)\n",
      "Or 17.823529411764703 us / inferences\n",
      "Classified 6900 samples in 0.122539 seconds (56308.60379144599 inferences / s)\n",
      "Or 17.759275362318842 us / inferences\n",
      "Classified 7000 samples in 0.124499 seconds (56225.351207640226 inferences / s)\n",
      "Or 17.785571428571426 us / inferences\n",
      "Classified 7100 samples in 0.1262 seconds (56259.90491283676 inferences / s)\n",
      "Or 17.774647887323948 us / inferences\n",
      "Classified 7200 samples in 0.12829 seconds (56122.84667550083 inferences / s)\n",
      "Or 17.818055555555553 us / inferences\n",
      "Classified 7300 samples in 0.129858 seconds (56215.25050439711 inferences / s)\n",
      "Or 17.788767123287673 us / inferences\n",
      "Classified 7400 samples in 0.13164299999999998 seconds (56212.635688946626 inferences / s)\n",
      "Or 17.78959459459459 us / inferences\n",
      "Classified 7500 samples in 0.133353 seconds (56241.70434860858 inferences / s)\n",
      "Or 17.7804 us / inferences\n",
      "Classified 7600 samples in 0.134953 seconds (56315.90257348855 inferences / s)\n",
      "Or 17.75697368421053 us / inferences\n",
      "Classified 7700 samples in 0.13666899999999998 seconds (56340.50150363287 inferences / s)\n",
      "Or 17.749220779220778 us / inferences\n",
      "Classified 7800 samples in 0.138456 seconds (56335.586756803605 inferences / s)\n",
      "Or 17.750769230769233 us / inferences\n",
      "Classified 7900 samples in 0.140448 seconds (56248.575985418094 inferences / s)\n",
      "Or 17.778227848101267 us / inferences\n",
      "Classified 8000 samples in 0.14221499999999998 seconds (56252.85659037374 inferences / s)\n",
      "Or 17.776874999999997 us / inferences\n",
      "Classified 8100 samples in 0.143654 seconds (56385.48178261656 inferences / s)\n",
      "Or 17.735061728395063 us / inferences\n",
      "Classified 8200 samples in 0.14562799999999998 seconds (56307.85288543413 inferences / s)\n",
      "Or 17.75951219512195 us / inferences\n",
      "Classified 8300 samples in 0.147806 seconds (56154.68925483404 inferences / s)\n",
      "Or 17.807951807228918 us / inferences\n",
      "Classified 8400 samples in 0.151277 seconds (55527.27777520707 inferences / s)\n",
      "Or 18.009166666666665 us / inferences\n",
      "Classified 8500 samples in 0.15045999999999998 seconds (56493.42017812044 inferences / s)\n",
      "Or 17.701176470588234 us / inferences\n",
      "Classified 8600 samples in 0.15198899999999999 seconds (56583.04219384298 inferences / s)\n",
      "Or 17.67313953488372 us / inferences\n",
      "Classified 8700 samples in 0.153687 seconds (56608.56155693065 inferences / s)\n",
      "Or 17.6651724137931 us / inferences\n",
      "Classified 8800 samples in 0.156528 seconds (56219.97342328529 inferences / s)\n",
      "Or 17.787272727272725 us / inferences\n",
      "Classified 8900 samples in 0.157162 seconds (56629.465137883206 inferences / s)\n",
      "Or 17.658651685393256 us / inferences\n",
      "Classified 9000 samples in 0.15911 seconds (56564.64081453083 inferences / s)\n",
      "Or 17.67888888888889 us / inferences\n",
      "Classified 9100 samples in 0.160686 seconds (56632.18948757204 inferences / s)\n",
      "Or 17.657802197802198 us / inferences\n",
      "Classified 9200 samples in 0.16264199999999998 seconds (56565.95467345459 inferences / s)\n",
      "Or 17.678478260869564 us / inferences\n",
      "Classified 9300 samples in 0.164221 seconds (56631.003343056 inferences / s)\n",
      "Or 17.658172043010754 us / inferences\n",
      "Classified 9400 samples in 0.166099 seconds (56592.75492326865 inferences / s)\n",
      "Or 17.670106382978727 us / inferences\n",
      "Classified 9500 samples in 0.16772399999999998 seconds (56640.671579499656 inferences / s)\n",
      "Or 17.655157894736842 us / inferences\n",
      "Classified 9600 samples in 0.16966199999999998 seconds (56583.08872935602 inferences / s)\n",
      "Or 17.673124999999995 us / inferences\n",
      "Classified 9700 samples in 0.172072 seconds (56371.751359895854 inferences / s)\n",
      "Or 17.73938144329897 us / inferences\n",
      "Classified 9800 samples in 0.173031 seconds (56637.24997254828 inferences / s)\n",
      "Or 17.656224489795914 us / inferences\n",
      "Classified 9900 samples in 0.174592 seconds (56703.62903225807 inferences / s)\n",
      "Or 17.635555555555555 us / inferences\n",
      "Classified 10000 samples in 0.176402 seconds (56688.69967460686 inferences / s)\n",
      "Or 17.6402 us / inferences\n"
     ]
    }
   ],
   "source": [
    "N_it = 100\n",
    "rate_v  = []\n",
    "for i in range(N_it):\n",
    "    N = int(((i+1)*X_test.shape[0]/N_it))\n",
    "    in_size = np.linspace(X_test.shape[0]/N_it, X_test.shape[0], N_it, dtype=np.int32)\n",
    "    i_buff[:N] = X_test[:N]\n",
    "    y, _, rate = ol.predict(X=X_test[:N], y_shape=(N,10), input_buffer=i_buff[:N], output_buffer=o_buff[:N], profile=True, debug=False)\n",
    "    rate_v.append(rate)"
   ]
  },
  {
   "cell_type": "code",
   "execution_count": 17,
   "id": "05f53745-b214-4990-902f-19f3286b5aac",
   "metadata": {},
   "outputs": [
    {
     "data": {
      "text/plain": [
       "[<matplotlib.lines.Line2D at 0x7f52c16cc9a0>]"
      ]
     },
     "execution_count": 17,
     "metadata": {},
     "output_type": "execute_result"
    },
    {
     "data": {
      "image/png": "[encoded data removed]",
      "text/plain": [
       "<Figure size 432x288 with 1 Axes>"
      ]
     },
     "metadata": {
      "needs_background": "light"
     },
     "output_type": "display_data"
    }
   ],
   "source": [
    "plt.plot(in_size, rate_v)"
   ]
  },
  {
   "cell_type": "code",
   "execution_count": 18,
   "id": "b296e89b-6573-4165-ab6e-f847626f3cc7",
   "metadata": {},
   "outputs": [
    {
     "data": {
      "image/png": "[encoded data removed]",
      "text/plain": [
       "<Figure size 432x288 with 1 Axes>"
      ]
     },
     "metadata": {
      "needs_background": "light"
     },
     "output_type": "display_data"
    },
    {
     "data": {
      "image/png": "[encoded data removed]",
      "text/plain": [
       "<Figure size 432x288 with 1 Axes>"
      ]
     },
     "metadata": {
      "needs_background": "light"
     },
     "output_type": "display_data"
    },
    {
     "data": {
      "image/png": "[encoded data removed]",
      "text/plain": [
       "<Figure size 432x288 with 1 Axes>"
      ]
     },
     "metadata": {
      "needs_background": "light"
     },
     "output_type": "display_data"
    },
    {
     "data": {
      "image/png": "[encoded data removed]",
      "text/plain": [
       "<Figure size 432x288 with 1 Axes>"
      ]
     },
     "metadata": {
      "needs_background": "light"
     },
     "output_type": "display_data"
    },
    {
     "data": {
      "image/png": "[encoded data removed]",
      "text/plain": [
       "<Figure size 432x288 with 1 Axes>"
      ]
     },
     "metadata": {
      "needs_background": "light"
     },
     "output_type": "display_data"
    }
   ],
   "source": [
    "for i in range(5):\n",
    "    img_title = ('Predicted label: %d' % np.argmax(np.array(y[i])))\n",
    "    print_img(X_test[i], img_title)"
   ]
  },
  {
   "cell_type": "code",
   "execution_count": 19,
   "id": "5b382b72-ff7f-4cef-ad18-52cfb54c4280",
   "metadata": {},
   "outputs": [],
   "source": [
    "y_alveo = y"
   ]
  },
  {
   "cell_type": "code",
   "execution_count": 20,
   "id": "51c7686a-495b-43bb-ab2e-96c284760a05",
   "metadata": {},
   "outputs": [
    {
     "name": "stdout",
     "output_type": "stream",
     "text": [
      "Accuracy hls4ml: 0.9715\n",
      "Accuracy FPGA: 0.9711\n"
     ]
    },
    {
     "data": {
      "text/plain": [
       "<matplotlib.legend.Legend at 0x7f5299f3f310>"
      ]
     },
     "execution_count": 20,
     "metadata": {},
     "output_type": "execute_result"
    },
    {
     "data": {
      "image/png": "[encoded data removed]",
      "text/plain": [
       "<Figure size 648x648 with 1 Axes>"
      ]
     },
     "metadata": {
      "needs_background": "light"
     },
     "output_type": "display_data"
    }
   ],
   "source": [
    "%matplotlib inline\n",
    "from sklearn.metrics import accuracy_score\n",
    "from tensorflow.keras.models import load_model\n",
    "import plotting\n",
    "\n",
    "#model_ref = load_model(MODEL_PATH + 'Keras_only/KERAS_check_best_model.h5')\n",
    "#with tf.device('/cpu:0'):\n",
    "#    y_ref = model_ref.predict(X_test)\n",
    "\n",
    "y_test = np.load(\"../NN_train/MNIST_Test/Data/y_test.npy\")\n",
    "y_test.astype(np.float32)\n",
    "y_hls = np.load(\"../NN_train/MNIST_Test/Data/y_hls_CNN.npy\")\n",
    "y_hls.astype(np.float32)\n",
    "\n",
    "#print(\"Accuracy baseline:  {}\".format(accuracy_score(np.argmax(y_test, axis=1), np.argmax(y_ref, axis=1))))\n",
    "print(\"Accuracy hls4ml: {}\".format(accuracy_score(np.argmax(y_test, axis=1), np.argmax(y_hls, axis=1))))\n",
    "print(\"Accuracy FPGA: {}\".format(accuracy_score(np.argmax(y_test, axis=1), np.argmax(y_alveo, axis=1))))\n",
    "\n",
    "fig, ax = plt.subplots(figsize=(9, 9))\n",
    "#_ = plotting.makeRoc(y_test, y_ref, classes)\n",
    "#plt.gca().set_prop_cycle(None) # reset the colors\n",
    "_ = plotting.makeRoc(y_test, y_hls, [\"0\", \"1\", \"2\", \"3\", \"4\", \"5\", \"6\", \"7\", \"8\", \"9\"], linestyle='--')\n",
    "plt.gca().set_prop_cycle(None) # reset the colors\n",
    "_ = plotting.makeRoc(y_test, y_alveo   , [\"0\", \"1\", \"2\", \"3\", \"4\", \"5\", \"6\", \"7\", \"8\", \"9\"], linestyle=':')\n",
    "\n",
    "from matplotlib.lines import Line2D\n",
    "lines = [#Line2D([0], [0], ls='-'),\n",
    "         Line2D([0], [0], ls='--'),\n",
    "         Line2D([0], [0], ls=':')]\n",
    "from matplotlib.legend import Legend\n",
    "leg = Legend(ax, lines, labels=['hls4ml', 'alveo'],\n",
    "            loc='lower right', frameon=False)\n",
    "ax.add_artist(leg)"
   ]
  },
  {
   "cell_type": "markdown",
   "id": "78d28fef-ca8f-4a31-9078-6033407dde61",
   "metadata": {},
   "source": [
    "## Power measures"
   ]
  },
  {
   "cell_type": "code",
   "execution_count": null,
   "id": "0a1f7669-1bfe-45d5-a7a7-57ee1b4c0645",
   "metadata": {},
   "outputs": [],
   "source": [
    "from pynq import Device\n",
    "\n",
    "sensors = Device.active_device.sensors\n",
    "sensors"
   ]
  },
  {
   "cell_type": "code",
   "execution_count": null,
   "id": "724be1fb-c01a-4985-8672-3019a8b71af8",
   "metadata": {},
   "outputs": [],
   "source": [
    "from pynq.pmbus import DataRecorder\n",
    "\n",
    "recorder = DataRecorder(sensors[\"12v_aux\"].power,\n",
    "                        sensors[\"12v_pex\"].power,\n",
    "                        sensors[\"vccint\"].power)"
   ]
  },
  {
   "cell_type": "code",
   "execution_count": null,
   "id": "0d7a9d4a-b46e-464c-93ae-325466e23905",
   "metadata": {},
   "outputs": [],
   "source": [
    "import pandas as pd\n",
    "\n",
    "f = recorder.frame"
   ]
  },
  {
   "cell_type": "code",
   "execution_count": null,
   "id": "05499b17-ac84-4cc9-9a38-1d6387fd30fc",
   "metadata": {},
   "outputs": [],
   "source": [
    "recorder.record(0.1)"
   ]
  },
  {
   "cell_type": "code",
   "execution_count": null,
   "id": "c60e405b-0441-4d6d-93bf-bc7523bcfc8f",
   "metadata": {},
   "outputs": [],
   "source": [
    "f.head()"
   ]
  },
  {
   "cell_type": "code",
   "execution_count": null,
   "id": "aac847c3-a471-48ff-9bbb-8ba3b6229b34",
   "metadata": {},
   "outputs": [],
   "source": [
    "import plotly.graph_objs as go\n",
    "\n",
    "layout = {\n",
    "    'xaxis': {\n",
    "        'title': 'Time (s)'\n",
    "    },\n",
    "    'yaxis': {\n",
    "        'title': 'Power (W)',\n",
    "        'rangemode': 'tozero',\n",
    "        'autorange': True\n",
    "    }\n",
    "}\n",
    "\n",
    "plot = go.FigureWidget(layout=layout)\n",
    "plot"
   ]
  },
  {
   "cell_type": "code",
   "execution_count": null,
   "id": "42ca0c1b-9a81-4e04-a825-d9fef7cba5de",
   "metadata": {},
   "outputs": [],
   "source": [
    "def update_data(frame, start, end, plot):\n",
    "    ranged = frame[start:end]\n",
    "    average_ranged = frame[start-pd.tseries.offsets.Second(5):end]\n",
    "    rolling = (average_ranged['12v_aux_power'] + average_ranged['12v_pex_power']).rolling(\n",
    "        pd.tseries.offsets.Second(5)\n",
    "    ).mean()[ranged.index]\n",
    "    powers = pd.DataFrame(index=ranged.index)\n",
    "    powers['board_power'] = ranged['12v_aux_power'] + ranged['12v_pex_power']\n",
    "    powers['rolling'] = rolling\n",
    "    data = [\n",
    "        go.Scatter(x=powers.index, y=powers['board_power'], name=\"Board Power\"),\n",
    "        go.Scatter(x=powers.index, y=powers['rolling'], name=\"5 Second Avg\")\n",
    "    ]\n",
    "    plot.update(data=data)\n"
   ]
  },
  {
   "cell_type": "code",
   "execution_count": null,
   "id": "0a73f6f6-8157-4a17-b000-7f749a76c1a6",
   "metadata": {},
   "outputs": [],
   "source": [
    "import threading\n",
    "import time\n",
    "\n",
    "do_update = True\n",
    "\n",
    "def thread_func():\n",
    "    while do_update:\n",
    "        now = pd.Timestamp.fromtimestamp(time.time())\n",
    "        past = now - pd.tseries.offsets.Second(60)\n",
    "        update_data(recorder.frame, past, now, plot)\n",
    "        time.sleep(0.5)\n",
    "\n",
    "from threading import Thread\n",
    "t = Thread(target=thread_func)\n",
    "t.start()"
   ]
  },
  {
   "cell_type": "code",
   "execution_count": null,
   "id": "979d96f2-5bc8-4196-8d3c-1fa324fb863c",
   "metadata": {},
   "outputs": [],
   "source": [
    "do_update = False\n",
    "t.join()\n",
    "recorder.stop()"
   ]
  },
  {
   "cell_type": "code",
   "execution_count": null,
   "id": "4e403f6d-a7b4-49ca-aea2-f0b4f67f8cfa",
   "metadata": {},
   "outputs": [],
   "source": []
  }
 ],
 "metadata": {
  "kernelspec": {
   "display_name": "Python 3",
   "language": "python",
   "name": "python3"
  },
  "language_info": {
   "codemirror_mode": {
    "name": "ipython",
    "version": 3
   },
   "file_extension": ".py",
   "mimetype": "text/x-python",
   "name": "python",
   "nbconvert_exporter": "python",
   "pygments_lexer": "ipython3",
   "version": "3.9.7"
  }
 },
 "nbformat": 4,
 "nbformat_minor": 5
}
