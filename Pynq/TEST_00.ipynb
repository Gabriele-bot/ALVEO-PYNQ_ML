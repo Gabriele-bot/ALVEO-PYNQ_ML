{
 "cells": [
  {
   "cell_type": "code",
   "execution_count": 1,
   "id": "b494dc79-522d-4d70-a44c-edc89d298507",
   "metadata": {},
   "outputs": [
    {
     "name": "stdout",
     "output_type": "stream",
     "text": [
      "XILINX_XRT        : /opt/xilinx/xrt\n",
      "PATH              : /opt/xilinx/xrt/bin:/opt/xilinx/xrt/bin:/home/ubuntu/anaconda3/envs/hls4ml_env/bin:/home/ubuntu/anaconda3/condabin:/home/ubuntu/.local/bin:/usr/local/sbin:/usr/local/bin:/usr/sbin:/usr/bin:/sbin:/bin:/usr/games:/usr/local/games:/snap/bin\n",
      "LD_LIBRARY_PATH   : /opt/xilinx/xrt/lib:/opt/xilinx/xrt/lib:\n",
      "PYTHONPATH        : /opt/xilinx/xrt/python:/opt/xilinx/xrt/python:\n"
     ]
    }
   ],
   "source": [
    "!source /opt/xilinx/xrt/setup.sh"
   ]
  },
  {
   "cell_type": "code",
   "execution_count": 2,
   "id": "280e41ae-fd81-4b53-b27f-ca8d9df3f6b0",
   "metadata": {},
   "outputs": [
    {
     "name": "stdout",
     "output_type": "stream",
     "text": [
      "\n",
      "------------------------------------------------------\n",
      "1/1 [0000:08:00.1] : xilinx_u50_gen3x16_xdma_201920_3\n",
      "------------------------------------------------------\n",
      "Thermals\n",
      "  PCB Top Front          : 43 C\n",
      "  PCB Top Rear           : 45 C\n",
      "  FPGA                   : 53 C\n",
      "  FPGA HBM               : 48 C\n",
      "\n"
     ]
    }
   ],
   "source": [
    "!xbutil examine -d0000:08:00.1 -r thermal"
   ]
  },
  {
   "cell_type": "code",
   "execution_count": 3,
   "id": "ab35f890-50d6-49b7-8fb9-52870d68647c",
   "metadata": {},
   "outputs": [
    {
     "name": "stderr",
     "output_type": "stream",
     "text": [
      "/home/ubuntu/anaconda3/envs/hls4ml_env/lib/python3.9/site-packages/pynq/pl_server/xrt_device.py:88: UserWarning: xbutil failed to run - unable to determine XRT version\n",
      "  warnings.warn(\n"
     ]
    },
    {
     "data": {
      "application/javascript": [
       "\n",
       "try {\n",
       "require(['notebook/js/codecell'], function(codecell) {\n",
       "  codecell.CodeCell.options_default.highlight_modes[\n",
       "      'magic_text/x-csrc'] = {'reg':[/^%%microblaze/]};\n",
       "  Jupyter.notebook.events.one('kernel_ready.Kernel', function(){\n",
       "      Jupyter.notebook.get_cells().map(function(cell){\n",
       "          if (cell.cell_type == 'code'){ cell.auto_highlight(); } }) ;\n",
       "  });\n",
       "});\n",
       "} catch (e) {};\n"
      ]
     },
     "metadata": {},
     "output_type": "display_data"
    },
    {
     "data": {
      "application/javascript": [
       "\n",
       "try {\n",
       "require(['notebook/js/codecell'], function(codecell) {\n",
       "  codecell.CodeCell.options_default.highlight_modes[\n",
       "      'magic_text/x-csrc'] = {'reg':[/^%%pybind11/]};\n",
       "  Jupyter.notebook.events.one('kernel_ready.Kernel', function(){\n",
       "      Jupyter.notebook.get_cells().map(function(cell){\n",
       "          if (cell.cell_type == 'code'){ cell.auto_highlight(); } }) ;\n",
       "  });\n",
       "});\n",
       "} catch (e) {};\n"
      ]
     },
     "metadata": {},
     "output_type": "display_data"
    }
   ],
   "source": [
    "import pynq\n",
    "import numpy as np\n",
    "\n",
    "from pynq import allocate\n",
    "from pynq import Overlay\n",
    "\n",
    "from matplotlib import pyplot as plt\n",
    "from datetime import datetime"
   ]
  },
  {
   "cell_type": "code",
   "execution_count": 12,
   "id": "e7a50039-c82b-49ae-97ac-03dce93b566e",
   "metadata": {},
   "outputs": [],
   "source": [
    "class NeuralNetworkOverlay(Overlay):\n",
    "    def __init__(self, xclbin_name, dtbo=None, download=True, ignore_version=False, device=None):\n",
    "\n",
    "        super().__init__(xclbin_name, dtbo=dtbo, download=download, ignore_version=ignore_version, device=device)\n",
    "\n",
    "    def allocate_mem(self, X_shape, y_shape, dtype=np.float32, trg_in=None, trg_out=None):\n",
    "        \"\"\"\n",
    "        Buffer allocation in the card memory\n",
    "        Parameters\n",
    "        ----------\n",
    "        X_shape : input buffer shape.\n",
    "        y_shape : output buffer shape.\n",
    "        dtype   : the data type of the elements of the input/output vectors.\n",
    "                  Note: it should be set depending on the interface of the accelerator; if it uses 'float'\n",
    "                  types for the 'data' AXI-Stream field, 'np.float32' dtype is the correct one to use.\n",
    "                  Instead if it uses 'ap_fixed<A,B>', 'np.intA' is the correct one to use (note that A cannot\n",
    "                  any integer value, but it can assume {..., 8, 16, 32, ...} values. Check `numpy`\n",
    "                  doc for more info).\n",
    "                  In this case the encoding/decoding has to be computed by the host machine. For example for\n",
    "                  'ap_fixed<16,6>' type the following 2 functions are the correct one to use for encode/decode\n",
    "                  'float' -> 'ap_fixed<16,6>':\n",
    "                  ```\n",
    "                    def encode(xi):\n",
    "                        return np.int16(round(xi * 2**10)) # note 2**10 = 2**(A-B)\n",
    "                    def decode(yi):\n",
    "                        return yi * 2**-10\n",
    "                    encode_v = np.vectorize(encode) # to apply them element-wise\n",
    "                    decode_v = np.vectorize(decode)\n",
    "                  ```\n",
    "        trg_in  : input buffer target memory, alveo-u50 has 32 bank of HBM 256 MB each. By default the v++ command\n",
    "                  set it to HBM[0].\n",
    "        trg_out : output buffer target memory, alveo-u50 has 32 bank of HBM 256 MB each. By default the v++ command\n",
    "                  set it to HBM[0].\n",
    "\n",
    "        Returns\n",
    "        -------\n",
    "        input_buffer, output_buffer : input and output PYNQ buffers\n",
    "\n",
    "        \"\"\"\n",
    "        input_buffer  = allocate(shape=X_shape, dtype=dtype, target=trg_in )\n",
    "        output_buffer = allocate(shape=y_shape, dtype=dtype, target=trg_out)\n",
    "        return input_buffer, output_buffer\n",
    "\n",
    "    def predict(self, X, y_shape, input_buffer, output_buffer, debug=None, profile=False, encode=None,\n",
    "                decode=None):\n",
    "        \"\"\"\n",
    "        Obtain the predictions of the NN implemented in the FPGA.\n",
    "        Parameters:\n",
    "        - X : the input vector. Should be numpy ndarray.\n",
    "        - y_shape : the shape of the output vector. Needed to the accelerator to set the TLAST bit properly and\n",
    "                    for sizing the output vector shape.\n",
    "        - input_buffer : input PYNQ buffer, must be allocated first and just once.\n",
    "        - output_buffer : output PYNQ buffer, must be allocated first and just once.\n",
    "        - debug : boolean, if set the function will print information about the data transfers status.\n",
    "        - profile : boolean. Set it to `True` to print the performance of the algorithm in term of `inference/s`.\n",
    "        - encode/decode: function pointers. See `dtype` section for more information.\n",
    "        - return: an output array based on `np.ndarray` with a shape equal to `y_shape` and a `dtype` equal to\n",
    "                  the namesake parameter.\n",
    "        \"\"\"\n",
    "        if profile:\n",
    "            timea = datetime.now()\n",
    "        if encode is not None:\n",
    "            X = encode(X)\n",
    "        in_size  = np.prod(X.shape)\n",
    "        out_size = np.prod(y_shape)\n",
    "        input_buffer[:] = X\n",
    "        input_buffer.sync_to_device()\n",
    "        if debug:\n",
    "            print(\"Send OK\")\n",
    "        self.krnl_rtl_1.call(input_buffer, output_buffer, in_size, out_size)\n",
    "        if debug:\n",
    "            print(\"Kernel call OK\")\n",
    "        output_buffer.sync_from_device()\n",
    "        if debug:\n",
    "            print(\"Recieve OK\")\n",
    "        result = output_buffer.copy()\n",
    "        if profile:\n",
    "            timeb = datetime.now()\n",
    "            dts, rate = self._print_dt(timea, timeb, len(X))\n",
    "            input_buffer.flush()\n",
    "            output_buffer.flush()\n",
    "            del input_buffer\n",
    "            del output_buffer\n",
    "            self.free()\n",
    "            return result, dts, rate\n",
    "        input_buffer.flush()\n",
    "        output_buffer.flush()\n",
    "        del input_buffer\n",
    "        del output_buffer\n",
    "        return result\n",
    "\n",
    "    def free_overlay(self):\n",
    "        self.free()\n",
    "\n",
    "    def _print_dt(self, timea, timeb, N):\n",
    "        dt = (timeb - timea)\n",
    "        dts = dt.seconds + dt.microseconds * 10 ** -6\n",
    "        rate = N / dts\n",
    "        print(\"Classified {} samples in {} seconds ({} inferences / s)\".format(N, dts, rate))\n",
    "        print(\"Or {} us / inferences\".format(1 / rate * 1e6))\n",
    "        return dts, rate\n"
   ]
  },
  {
   "cell_type": "code",
   "execution_count": 13,
   "id": "a5a8c7ea-1b4a-4188-9ef2-ad5891f213fa",
   "metadata": {},
   "outputs": [],
   "source": [
    "def print_img(matrix, title=\"Label\"):\n",
    "    plt.imshow(matrix, cmap='gray')\n",
    "    plt.title(title)\n",
    "    plt.show()"
   ]
  },
  {
   "cell_type": "code",
   "execution_count": 21,
   "id": "1aecef33-3ca4-4e02-8a5b-cd07ce6e5de6",
   "metadata": {},
   "outputs": [],
   "source": [
    "ol = NeuralNetworkOverlay(xclbin_name=\"myproject_kernel_1.xclbin\")"
   ]
  },
  {
   "cell_type": "code",
   "execution_count": 22,
   "id": "09175ec4-5dea-44a6-8571-156e2a58fbbf",
   "metadata": {},
   "outputs": [
    {
     "data": {
      "text/plain": [
       "\u001b[0;31mType:\u001b[0m        DefaultIP\n",
       "\u001b[0;31mString form:\u001b[0m <pynq.overlay.DefaultIP object at 0x7fa93879e130>\n",
       "\u001b[0;31mFile:\u001b[0m        ~/anaconda3/envs/hls4ml_env/lib/python3.9/site-packages/pynq/overlay.py\n",
       "\u001b[0;31mDocstring:\u001b[0m  \n",
       "Driver for an IP without a more specific driver\n",
       "\n",
       "This driver wraps an MMIO device and provides a base class\n",
       "for more specific drivers written later. It also provides\n",
       "access to GPIO outputs and interrupts inputs via attributes. More specific\n",
       "drivers should inherit from `DefaultIP` and include a\n",
       "`bindto` entry containing all of the IP that the driver\n",
       "should bind to. Subclasses meeting these requirements will\n",
       "automatically be registered.\n",
       "\n",
       "Attributes\n",
       "----------\n",
       "mmio : pynq.MMIO\n",
       "    Underlying MMIO driver for the device\n",
       "_interrupts : dict\n",
       "    Subset of the PL.interrupt_pins related to this IP\n",
       "_gpio : dict\n",
       "    Subset of the PL.gpio_dict related to this IP\n"
      ]
     },
     "metadata": {},
     "output_type": "display_data"
    }
   ],
   "source": [
    "ol.krnl_rtl_1?"
   ]
  },
  {
   "cell_type": "code",
   "execution_count": 23,
   "id": "18d80ed7-ffab-454c-9a38-447a028198ab",
   "metadata": {},
   "outputs": [
    {
     "data": {
      "text/plain": [
       "RegisterMap {\n",
       "  CTRL = Register(AP_START=0, AP_DONE=0, AP_IDLE=1, AP_READY=0, AUTO_RESTART=0),\n",
       "  fifo_in = Register(value=0),\n",
       "  fifo_out = Register(value=0),\n",
       "  length_r_in = Register(value=0),\n",
       "  length_r_out = Register(value=0)\n",
       "}"
      ]
     },
     "execution_count": 23,
     "metadata": {},
     "output_type": "execute_result"
    }
   ],
   "source": [
    "ol.krnl_rtl_1.register_map"
   ]
  },
  {
   "cell_type": "code",
   "execution_count": 24,
   "id": "561bff75-e525-4698-ba05-f66dfe67411d",
   "metadata": {},
   "outputs": [
    {
     "data": {
      "text/plain": [
       "<Signature (fifo_in: 'void*', fifo_out: 'void*', length_r_in: 'int', length_r_out: 'int')>"
      ]
     },
     "execution_count": 24,
     "metadata": {},
     "output_type": "execute_result"
    }
   ],
   "source": [
    "ol.krnl_rtl_1.signature"
   ]
  },
  {
   "cell_type": "code",
   "execution_count": 25,
   "id": "c4c3afda-5ce4-462d-b38e-5e5a1cb0e384",
   "metadata": {},
   "outputs": [],
   "source": [
    "X_test = np.load(\"../NN_train/MNIST_Test/Data/X_test.npy\")\n",
    "X_test = np.asarray(X_test, dtype = np.float32)"
   ]
  },
  {
   "cell_type": "code",
   "execution_count": 27,
   "id": "99c5787d-53b9-46ae-8065-d355aa9f40e6",
   "metadata": {},
   "outputs": [],
   "source": [
    "i_buff, o_buff = ol.allocate_mem(X_shape=X_test.shape, y_shape=(X_test.shape[0],10), dtype=np.float32, trg_in=ol.HBM0, trg_out=ol.HBM0)"
   ]
  },
  {
   "cell_type": "code",
   "execution_count": 28,
   "id": "61b1fa3e-2381-4273-97e9-284c7bdab2c7",
   "metadata": {},
   "outputs": [
    {
     "name": "stdout",
     "output_type": "stream",
     "text": [
      "Classified 10000 samples in 0.18720799999999999 seconds (53416.52066151019 inferences / s)\n",
      "Or 18.720799999999997 us / inferences\n"
     ]
    }
   ],
   "source": [
    "y, _, rate = ol.predict(X=X_test, y_shape=(X_test.shape[0],10), input_buffer=i_buff, output_buffer=o_buff, profile=True, debug=False)"
   ]
  },
  {
   "cell_type": "code",
   "execution_count": 29,
   "id": "2fecd59b-3946-45a9-9cce-0ef82662515f",
   "metadata": {},
   "outputs": [],
   "source": [
    "np.save(\"../NN_train/MNIST_Test/Data/y_alveo_CNN.npy\", y)"
   ]
  },
  {
   "cell_type": "code",
   "execution_count": 30,
   "id": "c73e2420-4bf8-45bb-b5e1-d5855e281601",
   "metadata": {},
   "outputs": [],
   "source": [
    "ol.free_overlay()"
   ]
  },
  {
   "cell_type": "code",
   "execution_count": 32,
   "id": "b0e47b7b",
   "metadata": {
    "collapsed": false,
    "jupyter": {
     "outputs_hidden": false
    },
    "pycharm": {
     "name": "#%%\n"
    }
   },
   "outputs": [],
   "source": [
    "i_buff, o_buff = ol.allocate_mem(X_shape=X_test.shape, y_shape=(X_test.shape[0],10), dtype=np.float32, trg_in=ol.HBM0, trg_out=ol.HBM0)"
   ]
  },
  {
   "cell_type": "code",
   "execution_count": 33,
   "id": "e3acd263-3618-481f-b134-726ad6ae15b2",
   "metadata": {},
   "outputs": [
    {
     "name": "stdout",
     "output_type": "stream",
     "text": [
      "Classified 100 samples in 0.004482 seconds (22311.468094600627 inferences / s)\n",
      "Or 44.81999999999999 us / inferences\n",
      "Classified 200 samples in 0.005363 seconds (37292.56013425322 inferences / s)\n",
      "Or 26.815 us / inferences\n",
      "Classified 300 samples in 0.007081 seconds (42366.89733088547 inferences / s)\n",
      "Or 23.60333333333333 us / inferences\n",
      "Classified 400 samples in 0.008635 seconds (46323.10364794441 inferences / s)\n",
      "Or 21.587500000000002 us / inferences\n",
      "Classified 500 samples in 0.010423 seconds (47970.83373309028 inferences / s)\n",
      "Or 20.846 us / inferences\n",
      "Classified 600 samples in 0.012078 seconds (49677.098857426725 inferences / s)\n",
      "Or 20.130000000000003 us / inferences\n",
      "Classified 700 samples in 0.014058999999999999 seconds (49790.16999786614 inferences / s)\n",
      "Or 20.084285714285713 us / inferences\n",
      "Classified 800 samples in 0.015752 seconds (50787.20162519046 inferences / s)\n",
      "Or 19.69 us / inferences\n",
      "Classified 900 samples in 0.017424 seconds (51652.89256198348 inferences / s)\n",
      "Or 19.359999999999996 us / inferences\n",
      "Classified 1000 samples in 0.019226999999999998 seconds (52010.19399802362 inferences / s)\n",
      "Or 19.226999999999997 us / inferences\n",
      "Classified 1100 samples in 0.020878999999999998 seconds (52684.51554193209 inferences / s)\n",
      "Or 18.98090909090909 us / inferences\n",
      "Classified 1200 samples in 0.022574999999999998 seconds (53156.146179402 inferences / s)\n",
      "Or 18.812499999999996 us / inferences\n",
      "Classified 1300 samples in 0.024298 seconds (53502.34587208824 inferences / s)\n",
      "Or 18.69076923076923 us / inferences\n",
      "Classified 1400 samples in 0.026133 seconds (53572.11188918226 inferences / s)\n",
      "Or 18.66642857142857 us / inferences\n",
      "Classified 1500 samples in 0.027655 seconds (54239.739649249685 inferences / s)\n",
      "Or 18.436666666666667 us / inferences\n",
      "Classified 1600 samples in 0.029827 seconds (53642.67274616958 inferences / s)\n",
      "Or 18.641875 us / inferences\n",
      "Classified 1700 samples in 0.031493 seconds (53980.249579271585 inferences / s)\n",
      "Or 18.52529411764706 us / inferences\n",
      "Classified 1800 samples in 0.033162 seconds (54278.99402931066 inferences / s)\n",
      "Or 18.423333333333332 us / inferences\n",
      "Classified 1900 samples in 0.035105 seconds (54123.34425295542 inferences / s)\n",
      "Or 18.476315789473684 us / inferences\n",
      "Classified 2000 samples in 0.036885999999999995 seconds (54221.11370167544 inferences / s)\n",
      "Or 18.442999999999998 us / inferences\n",
      "Classified 2100 samples in 0.038778 seconds (54154.417453195114 inferences / s)\n",
      "Or 18.465714285714284 us / inferences\n",
      "Classified 2200 samples in 0.040725 seconds (54020.871700429714 inferences / s)\n",
      "Or 18.511363636363633 us / inferences\n",
      "Classified 2300 samples in 0.042355 seconds (54302.915830480466 inferences / s)\n",
      "Or 18.415217391304346 us / inferences\n",
      "Classified 2400 samples in 0.044482 seconds (53954.40852479655 inferences / s)\n",
      "Or 18.534166666666668 us / inferences\n",
      "Classified 2500 samples in 0.045940999999999996 seconds (54417.62260290373 inferences / s)\n",
      "Or 18.3764 us / inferences\n",
      "Classified 2600 samples in 0.047795 seconds (54398.995710848416 inferences / s)\n",
      "Or 18.38269230769231 us / inferences\n",
      "Classified 2700 samples in 0.049462 seconds (54587.35999353039 inferences / s)\n",
      "Or 18.31925925925926 us / inferences\n",
      "Classified 2800 samples in 0.051209 seconds (54677.88865238533 inferences / s)\n",
      "Or 18.28892857142857 us / inferences\n",
      "Classified 2900 samples in 0.052674 seconds (55055.625166116115 inferences / s)\n",
      "Or 18.163448275862066 us / inferences\n",
      "Classified 3000 samples in 0.054636 seconds (54908.851306830664 inferences / s)\n",
      "Or 18.211999999999996 us / inferences\n",
      "Classified 3100 samples in 0.055897999999999996 seconds (55458.1559268668 inferences / s)\n",
      "Or 18.031612903225806 us / inferences\n",
      "Classified 3200 samples in 0.057791999999999996 seconds (55370.98560354375 inferences / s)\n",
      "Or 18.06 us / inferences\n",
      "Classified 3300 samples in 0.059648 seconds (55324.57081545064 inferences / s)\n",
      "Or 18.075151515151514 us / inferences\n",
      "Classified 3400 samples in 0.061179 seconds (55574.62527991631 inferences / s)\n",
      "Or 17.993823529411763 us / inferences\n",
      "Classified 3500 samples in 0.062706 seconds (55816.03036392052 inferences / s)\n",
      "Or 17.916 us / inferences\n",
      "Classified 3600 samples in 0.06476599999999999 seconds (55584.720377976104 inferences / s)\n",
      "Or 17.990555555555556 us / inferences\n",
      "Classified 3700 samples in 0.06648 seconds (55655.83634175692 inferences / s)\n",
      "Or 17.967567567567567 us / inferences\n",
      "Classified 3800 samples in 0.068219 seconds (55702.956654304515 inferences / s)\n",
      "Or 17.952368421052636 us / inferences\n",
      "Classified 3900 samples in 0.070616 seconds (55228.27687776142 inferences / s)\n",
      "Or 18.106666666666666 us / inferences\n",
      "Classified 4000 samples in 0.071884 seconds (55645.20616548884 inferences / s)\n",
      "Or 17.971 us / inferences\n",
      "Classified 4100 samples in 0.07348099999999999 seconds (55796.73657135859 inferences / s)\n",
      "Or 17.92219512195122 us / inferences\n",
      "Classified 4200 samples in 0.0755 seconds (55629.13907284768 inferences / s)\n",
      "Or 17.976190476190474 us / inferences\n",
      "Classified 4300 samples in 0.077217 seconds (55687.219135682564 inferences / s)\n",
      "Or 17.957441860465114 us / inferences\n",
      "Classified 4400 samples in 0.078752 seconds (55871.59691182446 inferences / s)\n",
      "Or 17.89818181818182 us / inferences\n",
      "Classified 4500 samples in 0.08066799999999999 seconds (55784.201914017955 inferences / s)\n",
      "Or 17.926222222222222 us / inferences\n",
      "Classified 4600 samples in 0.082394 seconds (55829.307959317426 inferences / s)\n",
      "Or 17.911739130434782 us / inferences\n",
      "Classified 4700 samples in 0.083909 seconds (56013.061769297696 inferences / s)\n",
      "Or 17.852978723404252 us / inferences\n",
      "Classified 4800 samples in 0.085709 seconds (56003.45354630203 inferences / s)\n",
      "Or 17.856041666666666 us / inferences\n",
      "Classified 4900 samples in 0.087675 seconds (55888.22355289421 inferences / s)\n",
      "Or 17.892857142857142 us / inferences\n",
      "Classified 5000 samples in 0.088973 seconds (56196.82375552134 inferences / s)\n",
      "Or 17.794599999999996 us / inferences\n",
      "Classified 5100 samples in 0.091185 seconds (55930.251686132586 inferences / s)\n",
      "Or 17.879411764705882 us / inferences\n",
      "Classified 5200 samples in 0.093134 seconds (55833.530182317954 inferences / s)\n",
      "Or 17.910384615384615 us / inferences\n",
      "Classified 5300 samples in 0.094428 seconds (56127.41983310035 inferences / s)\n",
      "Or 17.81660377358491 us / inferences\n",
      "Classified 5400 samples in 0.09619599999999999 seconds (56135.390244916634 inferences / s)\n",
      "Or 17.814074074074075 us / inferences\n",
      "Classified 5500 samples in 0.097977 seconds (56135.62366677894 inferences / s)\n",
      "Or 17.814 us / inferences\n",
      "Classified 5600 samples in 0.099743 seconds (56144.290827426485 inferences / s)\n",
      "Or 17.81125 us / inferences\n",
      "Classified 5700 samples in 0.101426 seconds (56198.60785203005 inferences / s)\n",
      "Or 17.7940350877193 us / inferences\n",
      "Classified 5800 samples in 0.103324 seconds (56134.10243505865 inferences / s)\n",
      "Or 17.814482758620688 us / inferences\n",
      "Classified 5900 samples in 0.105497 seconds (55925.760922111534 inferences / s)\n",
      "Or 17.880847457627116 us / inferences\n",
      "Classified 6000 samples in 0.10664699999999999 seconds (56260.37300627304 inferences / s)\n",
      "Or 17.774499999999996 us / inferences\n",
      "Classified 6100 samples in 0.108261 seconds (56345.31364018437 inferences / s)\n",
      "Or 17.747704918032785 us / inferences\n",
      "Classified 6200 samples in 0.110193 seconds (56264.91700924741 inferences / s)\n",
      "Or 17.773064516129033 us / inferences\n",
      "Classified 6300 samples in 0.11177799999999999 seconds (56361.71697471775 inferences / s)\n",
      "Or 17.742539682539682 us / inferences\n",
      "Classified 6400 samples in 0.11382199999999999 seconds (56228.145701182555 inferences / s)\n",
      "Or 17.784687499999997 us / inferences\n",
      "Classified 6500 samples in 0.115571 seconds (56242.48297583304 inferences / s)\n",
      "Or 17.780153846153848 us / inferences\n",
      "Classified 6600 samples in 0.117202 seconds (56313.03220081569 inferences / s)\n",
      "Or 17.757878787878788 us / inferences\n",
      "Classified 6700 samples in 0.11898199999999999 seconds (56311.038644500855 inferences / s)\n",
      "Or 17.758507462686566 us / inferences\n",
      "Classified 6800 samples in 0.12079699999999999 seconds (56292.7887281969 inferences / s)\n",
      "Or 17.76426470588235 us / inferences\n",
      "Classified 6900 samples in 0.12242 seconds (56363.33932363993 inferences / s)\n",
      "Or 17.742028985507247 us / inferences\n",
      "Classified 7000 samples in 0.12444 seconds (56252.00900032144 inferences / s)\n",
      "Or 17.777142857142856 us / inferences\n",
      "Classified 7100 samples in 0.12618 seconds (56268.82231732446 inferences / s)\n",
      "Or 17.771830985915493 us / inferences\n",
      "Classified 7200 samples in 0.12774 seconds (56364.49037106623 inferences / s)\n",
      "Or 17.741666666666667 us / inferences\n",
      "Classified 7300 samples in 0.129607 seconds (56324.11829607969 inferences / s)\n",
      "Or 17.754383561643834 us / inferences\n",
      "Classified 7400 samples in 0.131071 seconds (56457.95027122705 inferences / s)\n",
      "Or 17.712297297297297 us / inferences\n",
      "Classified 7500 samples in 0.132909 seconds (56429.58716114033 inferences / s)\n",
      "Or 17.7212 us / inferences\n",
      "Classified 7600 samples in 0.134605 seconds (56461.49845845251 inferences / s)\n",
      "Or 17.711184210526316 us / inferences\n",
      "Classified 7700 samples in 0.137131 seconds (56150.688028235774 inferences / s)\n",
      "Or 17.80922077922078 us / inferences\n",
      "Classified 7800 samples in 0.138134 seconds (56466.90894348965 inferences / s)\n",
      "Or 17.70948717948718 us / inferences\n",
      "Classified 7900 samples in 0.140087 seconds (56393.52687972475 inferences / s)\n",
      "Or 17.73253164556962 us / inferences\n",
      "Classified 8000 samples in 0.141375 seconds (56587.09106984969 inferences / s)\n",
      "Or 17.671875 us / inferences\n",
      "Classified 8100 samples in 0.14338399999999998 seconds (56491.65876248397 inferences / s)\n",
      "Or 17.70172839506173 us / inferences\n",
      "Classified 8200 samples in 0.145095 seconds (56514.69726730762 inferences / s)\n",
      "Or 17.694512195121952 us / inferences\n",
      "Classified 8300 samples in 0.146922 seconds (56492.56067845524 inferences / s)\n",
      "Or 17.70144578313253 us / inferences\n",
      "Classified 8400 samples in 0.148563 seconds (56541.669190848326 inferences / s)\n",
      "Or 17.686071428571427 us / inferences\n",
      "Classified 8500 samples in 0.150303 seconds (56552.43075653846 inferences / s)\n",
      "Or 17.68270588235294 us / inferences\n",
      "Classified 8600 samples in 0.152115 seconds (56536.17328994511 inferences / s)\n",
      "Or 17.68779069767442 us / inferences\n",
      "Classified 8700 samples in 0.15381499999999998 seconds (56561.453694373115 inferences / s)\n",
      "Or 17.679885057471264 us / inferences\n",
      "Classified 8800 samples in 0.15647899999999998 seconds (56237.5782053822 inferences / s)\n",
      "Or 17.781704545454545 us / inferences\n",
      "Classified 8900 samples in 0.157026 seconds (56678.511838803766 inferences / s)\n",
      "Or 17.643370786516854 us / inferences\n",
      "Classified 9000 samples in 0.15917299999999998 seconds (56542.25276899977 inferences / s)\n",
      "Or 17.685888888888886 us / inferences\n",
      "Classified 9100 samples in 0.16085 seconds (56574.448243705316 inferences / s)\n",
      "Or 17.675824175824175 us / inferences\n",
      "Classified 9200 samples in 0.16229 seconds (56688.64378581552 inferences / s)\n",
      "Or 17.640217391304347 us / inferences\n",
      "Classified 9300 samples in 0.164685 seconds (56471.44548683851 inferences / s)\n",
      "Or 17.70806451612903 us / inferences\n",
      "Classified 9400 samples in 0.166523 seconds (56448.658743837186 inferences / s)\n",
      "Or 17.715212765957446 us / inferences\n",
      "Classified 9500 samples in 0.167489 seconds (56720.14281534907 inferences / s)\n",
      "Or 17.63042105263158 us / inferences\n",
      "Classified 9600 samples in 0.169174 seconds (56746.30853440837 inferences / s)\n",
      "Or 17.622291666666666 us / inferences\n",
      "Classified 9700 samples in 0.170904 seconds (56757.00978327014 inferences / s)\n",
      "Or 17.618969072164948 us / inferences\n",
      "Classified 9800 samples in 0.172695 seconds (56747.444917339824 inferences / s)\n",
      "Or 17.621938775510202 us / inferences\n",
      "Classified 9900 samples in 0.17468999999999998 seconds (56671.81865018032 inferences / s)\n",
      "Or 17.645454545454545 us / inferences\n",
      "Classified 10000 samples in 0.17618599999999998 seconds (56758.19872180537 inferences / s)\n",
      "Or 17.618599999999997 us / inferences\n"
     ]
    }
   ],
   "source": [
    "N_it = 100\n",
    "rate_v  = []\n",
    "for i in range(N_it):\n",
    "    N = int(((i+1)*X_test.shape[0]/N_it))\n",
    "    in_size = np.linspace(X_test.shape[0]/N_it, X_test.shape[0], N_it, dtype=np.int32)\n",
    "    i_buff[:N] = X_test[:N]\n",
    "    y, _, rate = ol.predict(X=X_test[:N], y_shape=(N,10), input_buffer=i_buff[:N], output_buffer=o_buff[:N], profile=True, debug=False)\n",
    "    rate_v.append(rate)"
   ]
  },
  {
   "cell_type": "code",
   "execution_count": 34,
   "id": "05f53745-b214-4990-902f-19f3286b5aac",
   "metadata": {},
   "outputs": [
    {
     "data": {
      "text/plain": [
       "[<matplotlib.lines.Line2D at 0x7fa938093880>]"
      ]
     },
     "execution_count": 34,
     "metadata": {},
     "output_type": "execute_result"
    },
    {
     "data": {
      "image/png": "[encoded data removed]",
      "text/plain": [
       "<Figure size 432x288 with 1 Axes>"
      ]
     },
     "metadata": {
      "needs_background": "light"
     },
     "output_type": "display_data"
    }
   ],
   "source": [
    "plt.plot(in_size, rate_v)"
   ]
  },
  {
   "cell_type": "code",
   "execution_count": 35,
   "id": "b296e89b-6573-4165-ab6e-f847626f3cc7",
   "metadata": {},
   "outputs": [
    {
     "data": {
      "image/png": "[encoded data removed]",
      "text/plain": [
       "<Figure size 432x288 with 1 Axes>"
      ]
     },
     "metadata": {
      "needs_background": "light"
     },
     "output_type": "display_data"
    },
    {
     "data": {
      "image/png": "[encoded data removed]",
      "text/plain": [
       "<Figure size 432x288 with 1 Axes>"
      ]
     },
     "metadata": {
      "needs_background": "light"
     },
     "output_type": "display_data"
    },
    {
     "data": {
      "image/png": "[encoded data removed]",
      "text/plain": [
       "<Figure size 432x288 with 1 Axes>"
      ]
     },
     "metadata": {
      "needs_background": "light"
     },
     "output_type": "display_data"
    },
    {
     "data": {
      "image/png": "[encoded data removed]",
      "text/plain": [
       "<Figure size 432x288 with 1 Axes>"
      ]
     },
     "metadata": {
      "needs_background": "light"
     },
     "output_type": "display_data"
    },
    {
     "data": {
      "image/png": "[encoded data removed]",
      "text/plain": [
       "<Figure size 432x288 with 1 Axes>"
      ]
     },
     "metadata": {
      "needs_background": "light"
     },
     "output_type": "display_data"
    }
   ],
   "source": [
    "for i in range(5):\n",
    "    img_title = ('Predicted label: %d' % np.argmax(np.array(y[i])))\n",
    "    print_img(X_test[i], img_title)"
   ]
  },
  {
   "cell_type": "code",
   "execution_count": 36,
   "id": "5b382b72-ff7f-4cef-ad18-52cfb54c4280",
   "metadata": {},
   "outputs": [],
   "source": [
    "y_alveo = y"
   ]
  },
  {
   "cell_type": "code",
   "execution_count": 38,
   "id": "51c7686a-495b-43bb-ab2e-96c284760a05",
   "metadata": {},
   "outputs": [
    {
     "name": "stdout",
     "output_type": "stream",
     "text": [
      "Accuracy hls4ml: 0.9715\n",
      "Accuracy FPGA: 0.9711\n"
     ]
    },
    {
     "data": {
      "text/plain": [
       "<matplotlib.legend.Legend at 0x7fa910e20e20>"
      ]
     },
     "execution_count": 38,
     "metadata": {},
     "output_type": "execute_result"
    },
    {
     "data": {
      "image/png": "[encoded data removed]",
      "text/plain": [
       "<Figure size 648x648 with 1 Axes>"
      ]
     },
     "metadata": {
      "needs_background": "light"
     },
     "output_type": "display_data"
    }
   ],
   "source": [
    "%matplotlib inline\n",
    "from sklearn.metrics import accuracy_score\n",
    "from tensorflow.keras.models import load_model\n",
    "import plotting\n",
    "\n",
    "#model_ref = load_model(MODEL_PATH + 'Keras_only/KERAS_check_best_model.h5')\n",
    "#with tf.device('/cpu:0'):\n",
    "#    y_ref = model_ref.predict(X_test)\n",
    "\n",
    "y_test = np.load(\"../NN_train/MNIST_Test/Data/y_test.npy\")\n",
    "y_test.astype(np.float32)\n",
    "y_hls = np.load(\"../NN_train/MNIST_Test/Data/y_hls_CNN.npy\")\n",
    "y_hls.astype(np.float32)\n",
    "\n",
    "#print(\"Accuracy baseline:  {}\".format(accuracy_score(np.argmax(y_test, axis=1), np.argmax(y_ref, axis=1))))\n",
    "print(\"Accuracy hls4ml: {}\".format(accuracy_score(np.argmax(y_test, axis=1), np.argmax(y_hls, axis=1))))\n",
    "print(\"Accuracy FPGA: {}\".format(accuracy_score(np.argmax(y_test, axis=1), np.argmax(y_alveo, axis=1))))\n",
    "\n",
    "fig, ax = plt.subplots(figsize=(9, 9))\n",
    "#_ = plotting.makeRoc(y_test, y_ref, classes)\n",
    "#plt.gca().set_prop_cycle(None) # reset the colors\n",
    "_ = plotting.makeRoc(y_test, y_hls, [\"0\", \"1\", \"2\", \"3\", \"4\", \"5\", \"6\", \"7\", \"8\", \"9\"], linestyle='--')\n",
    "plt.gca().set_prop_cycle(None) # reset the colors\n",
    "_ = plotting.makeRoc(y_test, y_alveo   , [\"0\", \"1\", \"2\", \"3\", \"4\", \"5\", \"6\", \"7\", \"8\", \"9\"], linestyle=':')\n",
    "\n",
    "from matplotlib.lines import Line2D\n",
    "lines = [#Line2D([0], [0], ls='-'),\n",
    "         Line2D([0], [0], ls='--'),\n",
    "         Line2D([0], [0], ls=':')]\n",
    "from matplotlib.legend import Legend\n",
    "leg = Legend(ax, lines, labels=['hls4ml', 'alveo'],\n",
    "            loc='lower right', frameon=False)\n",
    "ax.add_artist(leg)"
   ]
  },
  {
   "cell_type": "markdown",
   "id": "78d28fef-ca8f-4a31-9078-6033407dde61",
   "metadata": {},
   "source": [
    "## Power measures"
   ]
  },
  {
   "cell_type": "code",
   "execution_count": null,
   "id": "0a1f7669-1bfe-45d5-a7a7-57ee1b4c0645",
   "metadata": {},
   "outputs": [],
   "source": [
    "from pynq import Device\n",
    "\n",
    "sensors = Device.active_device.sensors\n",
    "sensors"
   ]
  },
  {
   "cell_type": "code",
   "execution_count": null,
   "id": "724be1fb-c01a-4985-8672-3019a8b71af8",
   "metadata": {},
   "outputs": [],
   "source": [
    "from pynq.pmbus import DataRecorder\n",
    "\n",
    "recorder = DataRecorder(sensors[\"12v_aux\"].power,\n",
    "                        sensors[\"12v_pex\"].power,\n",
    "                        sensors[\"vccint\"].power)"
   ]
  },
  {
   "cell_type": "code",
   "execution_count": null,
   "id": "0d7a9d4a-b46e-464c-93ae-325466e23905",
   "metadata": {},
   "outputs": [],
   "source": [
    "import pandas as pd\n",
    "\n",
    "f = recorder.frame"
   ]
  },
  {
   "cell_type": "code",
   "execution_count": null,
   "id": "05499b17-ac84-4cc9-9a38-1d6387fd30fc",
   "metadata": {},
   "outputs": [],
   "source": [
    "recorder.record(0.1)"
   ]
  },
  {
   "cell_type": "code",
   "execution_count": null,
   "id": "c60e405b-0441-4d6d-93bf-bc7523bcfc8f",
   "metadata": {},
   "outputs": [],
   "source": [
    "f.head()"
   ]
  },
  {
   "cell_type": "code",
   "execution_count": null,
   "id": "aac847c3-a471-48ff-9bbb-8ba3b6229b34",
   "metadata": {},
   "outputs": [],
   "source": [
    "import plotly.graph_objs as go\n",
    "\n",
    "layout = {\n",
    "    'xaxis': {\n",
    "        'title': 'Time (s)'\n",
    "    },\n",
    "    'yaxis': {\n",
    "        'title': 'Power (W)',\n",
    "        'rangemode': 'tozero',\n",
    "        'autorange': True\n",
    "    }\n",
    "}\n",
    "\n",
    "plot = go.FigureWidget(layout=layout)\n",
    "plot"
   ]
  },
  {
   "cell_type": "code",
   "execution_count": null,
   "id": "42ca0c1b-9a81-4e04-a825-d9fef7cba5de",
   "metadata": {},
   "outputs": [],
   "source": [
    "def update_data(frame, start, end, plot):\n",
    "    ranged = frame[start:end]\n",
    "    average_ranged = frame[start-pd.tseries.offsets.Second(5):end]\n",
    "    rolling = (average_ranged['12v_aux_power'] + average_ranged['12v_pex_power']).rolling(\n",
    "        pd.tseries.offsets.Second(5)\n",
    "    ).mean()[ranged.index]\n",
    "    powers = pd.DataFrame(index=ranged.index)\n",
    "    powers['board_power'] = ranged['12v_aux_power'] + ranged['12v_pex_power']\n",
    "    powers['rolling'] = rolling\n",
    "    data = [\n",
    "        go.Scatter(x=powers.index, y=powers['board_power'], name=\"Board Power\"),\n",
    "        go.Scatter(x=powers.index, y=powers['rolling'], name=\"5 Second Avg\")\n",
    "    ]\n",
    "    plot.update(data=data)\n"
   ]
  },
  {
   "cell_type": "code",
   "execution_count": null,
   "id": "0a73f6f6-8157-4a17-b000-7f749a76c1a6",
   "metadata": {},
   "outputs": [],
   "source": [
    "import threading\n",
    "import time\n",
    "\n",
    "do_update = True\n",
    "\n",
    "def thread_func():\n",
    "    while do_update:\n",
    "        now = pd.Timestamp.fromtimestamp(time.time())\n",
    "        past = now - pd.tseries.offsets.Second(60)\n",
    "        update_data(recorder.frame, past, now, plot)\n",
    "        time.sleep(0.5)\n",
    "\n",
    "from threading import Thread\n",
    "t = Thread(target=thread_func)\n",
    "t.start()"
   ]
  },
  {
   "cell_type": "code",
   "execution_count": null,
   "id": "979d96f2-5bc8-4196-8d3c-1fa324fb863c",
   "metadata": {},
   "outputs": [],
   "source": [
    "do_update = False\n",
    "t.join()\n",
    "recorder.stop()"
   ]
  },
  {
   "cell_type": "code",
   "execution_count": null,
   "id": "4e403f6d-a7b4-49ca-aea2-f0b4f67f8cfa",
   "metadata": {},
   "outputs": [],
   "source": []
  }
 ],
 "metadata": {
  "kernelspec": {
   "display_name": "Python 3",
   "language": "python",
   "name": "python3"
  },
  "language_info": {
   "codemirror_mode": {
    "name": "ipython",
    "version": 3
   },
   "file_extension": ".py",
   "mimetype": "text/x-python",
   "name": "python",
   "nbconvert_exporter": "python",
   "pygments_lexer": "ipython3",
   "version": "3.9.7"
  }
 },
 "nbformat": 4,
 "nbformat_minor": 5
}
