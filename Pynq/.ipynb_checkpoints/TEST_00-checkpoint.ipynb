{
 "cells": [
  {
   "cell_type": "code",
   "execution_count": 1,
   "id": "b494dc79-522d-4d70-a44c-edc89d298507",
   "metadata": {},
   "outputs": [
    {
     "name": "stdout",
     "output_type": "stream",
     "text": [
      "XILINX_XRT        : /opt/xilinx/xrt\n",
      "PATH              : /opt/xilinx/xrt/bin:/opt/xilinx/xrt/bin:/home/ubuntu/anaconda3/envs/hls4ml_env/bin:/home/ubuntu/anaconda3/condabin:/home/ubuntu/.local/bin:/usr/local/sbin:/usr/local/bin:/usr/sbin:/usr/bin:/sbin:/bin:/usr/games:/usr/local/games:/snap/bin\n",
      "LD_LIBRARY_PATH   : /opt/xilinx/xrt/lib:/opt/xilinx/xrt/lib:\n",
      "PYTHONPATH        : /opt/xilinx/xrt/python:/opt/xilinx/xrt/python:\n"
     ]
    }
   ],
   "source": [
    "!source /opt/xilinx/xrt/setup.sh"
   ]
  },
  {
   "cell_type": "code",
   "execution_count": 2,
   "id": "280e41ae-fd81-4b53-b27f-ca8d9df3f6b0",
   "metadata": {},
   "outputs": [
    {
     "name": "stdout",
     "output_type": "stream",
     "text": [
      "\n",
      "------------------------------------------------------\n",
      "1/1 [0000:08:00.1] : xilinx_u50_gen3x16_xdma_201920_3\n",
      "------------------------------------------------------\n",
      "Thermals\n",
      "  PCB Top Front          : 40 C\n",
      "  PCB Top Rear           : 42 C\n",
      "  FPGA                   : 50 C\n",
      "  FPGA HBM               : 45 C\n",
      "\n"
     ]
    }
   ],
   "source": [
    "!xbutil examine -d0000:08:00.1 -r thermal"
   ]
  },
  {
   "cell_type": "code",
   "execution_count": 3,
   "id": "ab35f890-50d6-49b7-8fb9-52870d68647c",
   "metadata": {},
   "outputs": [
    {
     "name": "stderr",
     "output_type": "stream",
     "text": [
      "/home/ubuntu/anaconda3/envs/hls4ml_env/lib/python3.9/site-packages/pynq/pl_server/xrt_device.py:88: UserWarning: xbutil failed to run - unable to determine XRT version\n",
      "  warnings.warn(\n"
     ]
    },
    {
     "data": {
      "application/javascript": [
       "\n",
       "try {\n",
       "require(['notebook/js/codecell'], function(codecell) {\n",
       "  codecell.CodeCell.options_default.highlight_modes[\n",
       "      'magic_text/x-csrc'] = {'reg':[/^%%microblaze/]};\n",
       "  Jupyter.notebook.events.one('kernel_ready.Kernel', function(){\n",
       "      Jupyter.notebook.get_cells().map(function(cell){\n",
       "          if (cell.cell_type == 'code'){ cell.auto_highlight(); } }) ;\n",
       "  });\n",
       "});\n",
       "} catch (e) {};\n"
      ]
     },
     "metadata": {},
     "output_type": "display_data"
    },
    {
     "data": {
      "application/javascript": [
       "\n",
       "try {\n",
       "require(['notebook/js/codecell'], function(codecell) {\n",
       "  codecell.CodeCell.options_default.highlight_modes[\n",
       "      'magic_text/x-csrc'] = {'reg':[/^%%pybind11/]};\n",
       "  Jupyter.notebook.events.one('kernel_ready.Kernel', function(){\n",
       "      Jupyter.notebook.get_cells().map(function(cell){\n",
       "          if (cell.cell_type == 'code'){ cell.auto_highlight(); } }) ;\n",
       "  });\n",
       "});\n",
       "} catch (e) {};\n"
      ]
     },
     "metadata": {},
     "output_type": "display_data"
    }
   ],
   "source": [
    "import pynq\n",
    "import numpy as np\n",
    "\n",
    "from pynq import allocate\n",
    "from pynq import Overlay\n",
    "\n",
    "from matplotlib import pyplot as plt\n",
    "from datetime import datetime"
   ]
  },
  {
   "cell_type": "code",
   "execution_count": 4,
   "id": "58a7d1a0-b512-4b17-b930-e424ea570d8c",
   "metadata": {},
   "outputs": [],
   "source": [
    "class NeuralNetworkOverlay(Overlay):\n",
    "    def __init__(self, xclbin_name, dtbo=None, download=True, ignore_version=False, device=None):\n",
    "        \n",
    "        super().__init__(xclbin_name, dtbo=dtbo, download=download, ignore_version=ignore_version, device=device)\n",
    "        \n",
    "    def allocate_mem(self, X_shape, y_shape, dtype=np.float32, trg_in=None, trg_out=None):\n",
    "        input_buffer  = allocate( shape=X_shape, dtype=dtype, target=trg_in )\n",
    "        output_buffer = allocate( shape=y_shape, dtype=dtype, target=trg_out)\n",
    "        return input_buffer, output_buffer\n",
    "    \n",
    "    def predict(self, X, y_shape, input_buffer, output_buffer, dtype=np.float32, debug=None, profile=False, encode=None, decode=None):\n",
    "        \"\"\"\n",
    "        Obtain the predictions of the NN implemented in the FPGA.\n",
    "        Parameters:\n",
    "        - X : the input vector. Should be numpy ndarray.\n",
    "        - y_shape : the shape of the output vector. Needed to the accelerator to set the TLAST bit properly and\n",
    "                    for sizing the output vector shape.\n",
    "        - dtype : the data type of the elements of the input/output vectors. \n",
    "                  Note: it should be set depending on the interface of the accelerator; if it uses 'float' \n",
    "                  types for the 'data' AXI-Stream field, 'np.float32' dtype is the correct one to use. \n",
    "                  Instead if it uses 'ap_fixed<A,B>', 'np.intA' is the correct one to use (note that A cannot\n",
    "                  any integer value, but it can assume {..., 8, 16, 32, ...} values. Check `numpy` \n",
    "                  doc for more info).\n",
    "                  In this case the encoding/decoding has to be computed by the PS. For example for \n",
    "                  'ap_fixed<16,6>' type the following 2 functions are the correct one to use for encode/decode \n",
    "                  'float' -> 'ap_fixed<16,6>':\n",
    "                  ```\n",
    "                    def encode(xi):\n",
    "                        return np.int16(round(xi * 2**10)) # note 2**10 = 2**(A-B)\n",
    "                    def decode(yi):\n",
    "                        return yi * 2**-10\n",
    "                    encode_v = np.vectorize(encode) # to apply them element-wise\n",
    "                    decode_v = np.vectorize(decode)\n",
    "                  ```\n",
    "        - profile : boolean. Set it to `True` to print the performance of the algorithm in term of `inference/s`.\n",
    "        - encode/decode: function pointers. See `dtype` section for more information.\n",
    "        - return: an output array based on `np.ndarray` with a shape equal to `y_shape` and a `dtype` equal to\n",
    "                  the namesake parameter.\n",
    "        \"\"\"\n",
    "        if profile:\n",
    "            timea = datetime.now()\n",
    "        if encode is not None:\n",
    "            X = encode(X)\n",
    "        in_size  = np.prod(X.shape)\n",
    "        out_size = np.prod(y_shape)\n",
    "        input_buffer[:] = X \n",
    "        input_buffer.sync_to_device()\n",
    "        if debug:\n",
    "            print(\"Send OK\")\n",
    "        self.krnl_rtl_1.call(input_buffer, output_buffer, in_size, out_size)\n",
    "        if debug:\n",
    "            print(\"Kernel call OK\")\n",
    "        output_buffer.sync_from_device()\n",
    "        if debug:\n",
    "            print(\"Recieve OK\")\n",
    "        result = output_buffer.copy()\n",
    "        if profile:\n",
    "            timeb = datetime.now()\n",
    "            dts, rate = self._print_dt(timea, timeb, len(X))\n",
    "            input_buffer.flush()\n",
    "            output_buffer.flush()\n",
    "            del input_buffer\n",
    "            del output_buffer\n",
    "            self.free()\n",
    "            return result, dts, rate\n",
    "        input_buffer.flush()\n",
    "        output_buffer.flush()\n",
    "        del input_buffer\n",
    "        del output_buffer\n",
    "        self.free()\n",
    "        return result\n",
    "\n",
    "    def _print_dt(self, timea, timeb, N):\n",
    "        dt      = (timeb - timea)\n",
    "        dts = dt.seconds + dt.microseconds * 10**-6\n",
    "        rate = N / dts\n",
    "        print(\"Classified {} samples in {} seconds ({} inferences / s)\".format(N, dts, rate))\n",
    "        print(\"Or {} us / inferences\".format(1/rate*1e6))\n",
    "        return dts, rate\n",
    "\n",
    "\n",
    "def print_img(matrix, title=\"Label\"):\n",
    "    plt.imshow(matrix, cmap='gray')\n",
    "    plt.title(title)\n",
    "    plt.show()"
   ]
  },
  {
   "cell_type": "code",
   "execution_count": 5,
   "id": "1aecef33-3ca4-4e02-8a5b-cd07ce6e5de6",
   "metadata": {},
   "outputs": [],
   "source": [
    "ol = NeuralNetworkOverlay(xclbin_name=\"Dense_kernel.xclbin\")"
   ]
  },
  {
   "cell_type": "code",
   "execution_count": null,
   "id": "09175ec4-5dea-44a6-8571-156e2a58fbbf",
   "metadata": {},
   "outputs": [],
   "source": [
    "ol.krnl_rtl_1?"
   ]
  },
  {
   "cell_type": "code",
   "execution_count": null,
   "id": "18d80ed7-ffab-454c-9a38-447a028198ab",
   "metadata": {},
   "outputs": [],
   "source": [
    "ol.krnl_rtl_1.register_map"
   ]
  },
  {
   "cell_type": "code",
   "execution_count": null,
   "id": "561bff75-e525-4698-ba05-f66dfe67411d",
   "metadata": {},
   "outputs": [],
   "source": [
    "ol.krnl_rtl_1.signature"
   ]
  },
  {
   "cell_type": "code",
   "execution_count": null,
   "id": "c4c3afda-5ce4-462d-b38e-5e5a1cb0e384",
   "metadata": {},
   "outputs": [],
   "source": [
    "X_test = np.load(\"../NN_train/MNIST_Test/Data/X_test.npy\")\n",
    "X_test = np.asarray(X_test, dtype = np.float32)"
   ]
  },
  {
   "cell_type": "code",
   "execution_count": null,
   "id": "99c5787d-53b9-46ae-8065-d355aa9f40e6",
   "metadata": {},
   "outputs": [],
   "source": [
    "i_buff, o_buff = ol.allocate_mem(X_shape=X_test.shape, y_shape=(X_test.shape[0],10), dtype=np.float32, trg_in=ol.HBM0, trg_out=ol.HBM1)"
   ]
  },
  {
   "cell_type": "code",
   "execution_count": null,
   "id": "61b1fa3e-2381-4273-97e9-284c7bdab2c7",
   "metadata": {},
   "outputs": [],
   "source": [
    "y, _, rate = ol.predict(X=X_test, y_shape=(X_test.shape[0],10), input_buffer=i_buff, output_buffer=o_buff, dtype=np.float32, profile=True, debug=False)"
   ]
  },
  {
   "cell_type": "code",
   "execution_count": null,
   "id": "2fecd59b-3946-45a9-9cce-0ef82662515f",
   "metadata": {},
   "outputs": [],
   "source": [
    "np.save(\"../NN_train/MNIST_Test/Data/y_alveo_Dense.npy\", y)"
   ]
  },
  {
   "cell_type": "code",
   "execution_count": null,
   "id": "b0e47b7b",
   "metadata": {
    "collapsed": false,
    "jupyter": {
     "outputs_hidden": false
    },
    "pycharm": {
     "name": "#%%\n"
    }
   },
   "outputs": [],
   "source": [
    "i_buff, o_buff = ol.allocate_mem(X_shape=X_test.shape, y_shape=(X_test.shape[0],10), dtype=np.float32, trg_in=ol.HBM0, trg_out=ol.HBM1)"
   ]
  },
  {
   "cell_type": "code",
   "execution_count": null,
   "id": "e3acd263-3618-481f-b134-726ad6ae15b2",
   "metadata": {},
   "outputs": [],
   "source": [
    "N_it = 100\n",
    "rate_v  = []\n",
    "for i in range(N_it):\n",
    "    N = int(((i+1)*X_test.shape[0]/N_it))\n",
    "    in_size = np.linspace(X_test.shape[0]/N_it, X_test.shape[0], N_it, dtype=np.int32)\n",
    "    i_buff[:N] = X_test[:N]\n",
    "    y, _, rate = ol.predict(X=X_test[:N], y_shape=(N,10), input_buffer=i_buff[:N], output_buffer=o_buff[:N], dtype=np.float32, profile=True, debug=False)\n",
    "    rate_v.append(rate)"
   ]
  },
  {
   "cell_type": "code",
   "execution_count": null,
   "id": "05f53745-b214-4990-902f-19f3286b5aac",
   "metadata": {},
   "outputs": [],
   "source": [
    "plt.plot(in_size, rate_v)"
   ]
  },
  {
   "cell_type": "code",
   "execution_count": null,
   "id": "b296e89b-6573-4165-ab6e-f847626f3cc7",
   "metadata": {},
   "outputs": [],
   "source": [
    "for i in range(10):\n",
    "    img_title = ('Predicted label: %d' % np.argmax(np.array(y[i])))\n",
    "    print_img(X_test[i], img_title)"
   ]
  },
  {
   "cell_type": "code",
   "execution_count": null,
   "id": "5b382b72-ff7f-4cef-ad18-52cfb54c4280",
   "metadata": {},
   "outputs": [],
   "source": [
    "y_alveo = y"
   ]
  },
  {
   "cell_type": "code",
   "execution_count": null,
   "id": "51c7686a-495b-43bb-ab2e-96c284760a05",
   "metadata": {},
   "outputs": [],
   "source": [
    "%matplotlib inline\n",
    "from sklearn.metrics import accuracy_score\n",
    "from tensorflow.keras.models import load_model\n",
    "import plotting\n",
    "\n",
    "#model_ref = load_model(MODEL_PATH + 'Keras_only/KERAS_check_best_model.h5')\n",
    "#with tf.device('/cpu:0'):\n",
    "#    y_ref = model_ref.predict(X_test)\n",
    "\n",
    "y_test = np.load(\"../NN_train/MNIST_Test/Data/y_test.npy\")\n",
    "y_test.astype(np.float32)\n",
    "y_hls = np.load(\"../NN_train/MNIST_Test/Data/y_hls_Dense.npy\")\n",
    "y_hls.astype(np.float32)\n",
    "\n",
    "#print(\"Accuracy baseline:  {}\".format(accuracy_score(np.argmax(y_test, axis=1), np.argmax(y_ref, axis=1))))\n",
    "print(\"Accuracy hls4ml: {}\".format(accuracy_score(np.argmax(y_test, axis=1), np.argmax(y_hls, axis=1))))\n",
    "print(\"Accuracy FPGA: {}\".format(accuracy_score(np.argmax(y_test, axis=1), np.argmax(y_alveo, axis=1))))\n",
    "\n",
    "fig, ax = plt.subplots(figsize=(9, 9))\n",
    "#_ = plotting.makeRoc(y_test, y_ref, classes)\n",
    "#plt.gca().set_prop_cycle(None) # reset the colors\n",
    "_ = plotting.makeRoc(y_test, y_hls, [\"0\", \"1\", \"2\", \"3\", \"4\", \"5\", \"6\", \"7\", \"8\", \"9\"], linestyle='--')\n",
    "plt.gca().set_prop_cycle(None) # reset the colors\n",
    "_ = plotting.makeRoc(y_test, y_alveo   , [\"0\", \"1\", \"2\", \"3\", \"4\", \"5\", \"6\", \"7\", \"8\", \"9\"], linestyle=':')\n",
    "\n",
    "from matplotlib.lines import Line2D\n",
    "lines = [#Line2D([0], [0], ls='-'),\n",
    "         Line2D([0], [0], ls='--'),\n",
    "         Line2D([0], [0], ls=':')]\n",
    "from matplotlib.legend import Legend\n",
    "leg = Legend(ax, lines, labels=['hls4ml', 'alveo'],\n",
    "            loc='lower right', frameon=False)\n",
    "ax.add_artist(leg)"
   ]
  },
  {
   "cell_type": "markdown",
   "id": "78d28fef-ca8f-4a31-9078-6033407dde61",
   "metadata": {},
   "source": [
    "## Power measures"
   ]
  },
  {
   "cell_type": "code",
   "execution_count": null,
   "id": "0a1f7669-1bfe-45d5-a7a7-57ee1b4c0645",
   "metadata": {},
   "outputs": [],
   "source": [
    "from pynq import Device\n",
    "\n",
    "sensors = Device.active_device.sensors\n",
    "sensors"
   ]
  },
  {
   "cell_type": "code",
   "execution_count": null,
   "id": "724be1fb-c01a-4985-8672-3019a8b71af8",
   "metadata": {},
   "outputs": [],
   "source": [
    "from pynq.pmbus import DataRecorder\n",
    "\n",
    "recorder = DataRecorder(sensors[\"12v_aux\"].power,\n",
    "                        sensors[\"12v_pex\"].power,\n",
    "                        sensors[\"vccint\"].power)"
   ]
  },
  {
   "cell_type": "code",
   "execution_count": null,
   "id": "0d7a9d4a-b46e-464c-93ae-325466e23905",
   "metadata": {},
   "outputs": [],
   "source": [
    "import pandas as pd\n",
    "\n",
    "f = recorder.frame"
   ]
  },
  {
   "cell_type": "code",
   "execution_count": null,
   "id": "05499b17-ac84-4cc9-9a38-1d6387fd30fc",
   "metadata": {},
   "outputs": [],
   "source": [
    "recorder.record(0.1)"
   ]
  },
  {
   "cell_type": "code",
   "execution_count": null,
   "id": "c60e405b-0441-4d6d-93bf-bc7523bcfc8f",
   "metadata": {},
   "outputs": [],
   "source": [
    "f.head()"
   ]
  },
  {
   "cell_type": "code",
   "execution_count": null,
   "id": "aac847c3-a471-48ff-9bbb-8ba3b6229b34",
   "metadata": {},
   "outputs": [],
   "source": [
    "import plotly.graph_objs as go\n",
    "\n",
    "layout = {\n",
    "    'xaxis': {\n",
    "        'title': 'Time (s)'\n",
    "    },\n",
    "    'yaxis': {\n",
    "        'title': 'Power (W)',\n",
    "        'rangemode': 'tozero',\n",
    "        'autorange': True\n",
    "    }\n",
    "}\n",
    "\n",
    "plot = go.FigureWidget(layout=layout)\n",
    "plot"
   ]
  },
  {
   "cell_type": "code",
   "execution_count": null,
   "id": "42ca0c1b-9a81-4e04-a825-d9fef7cba5de",
   "metadata": {},
   "outputs": [],
   "source": [
    "def update_data(frame, start, end, plot):\n",
    "    ranged = frame[start:end]\n",
    "    average_ranged = frame[start-pd.tseries.offsets.Second(5):end]\n",
    "    rolling = (average_ranged['12v_aux_power'] + average_ranged['12v_pex_power']).rolling(\n",
    "        pd.tseries.offsets.Second(5)\n",
    "    ).mean()[ranged.index]\n",
    "    powers = pd.DataFrame(index=ranged.index)\n",
    "    powers['board_power'] = ranged['12v_aux_power'] + ranged['12v_pex_power']\n",
    "    powers['rolling'] = rolling\n",
    "    data = [\n",
    "        go.Scatter(x=powers.index, y=powers['board_power'], name=\"Board Power\"),\n",
    "        go.Scatter(x=powers.index, y=powers['rolling'], name=\"5 Second Avg\")\n",
    "    ]\n",
    "    plot.update(data=data)\n"
   ]
  },
  {
   "cell_type": "code",
   "execution_count": null,
   "id": "0a73f6f6-8157-4a17-b000-7f749a76c1a6",
   "metadata": {},
   "outputs": [],
   "source": [
    "import threading\n",
    "import time\n",
    "\n",
    "do_update = True\n",
    "\n",
    "def thread_func():\n",
    "    while do_update:\n",
    "        now = pd.Timestamp.fromtimestamp(time.time())\n",
    "        past = now - pd.tseries.offsets.Second(60)\n",
    "        update_data(recorder.frame, past, now, plot)\n",
    "        time.sleep(0.5)\n",
    "\n",
    "from threading import Thread\n",
    "t = Thread(target=thread_func)\n",
    "t.start()"
   ]
  },
  {
   "cell_type": "code",
   "execution_count": null,
   "id": "979d96f2-5bc8-4196-8d3c-1fa324fb863c",
   "metadata": {},
   "outputs": [],
   "source": [
    "do_update = False\n",
    "t.join()\n",
    "recorder.stop()"
   ]
  },
  {
   "cell_type": "code",
   "execution_count": null,
   "id": "0a090c5b-7e77-4fec-a317-c0cb0cc80a1a",
   "metadata": {},
   "outputs": [],
   "source": []
  },
  {
   "cell_type": "code",
   "execution_count": 1,
   "id": "dd574950-555e-425d-bd6a-a8bbdf85c11f",
   "metadata": {},
   "outputs": [
    {
     "name": "stderr",
     "output_type": "stream",
     "text": [
      "/home/ubuntu/anaconda3/envs/hls4ml_env/lib/python3.9/site-packages/pynq/pl_server/xrt_device.py:88: UserWarning: xbutil failed to run - unable to determine XRT version\n",
      "  warnings.warn(\n"
     ]
    },
    {
     "data": {
      "application/javascript": [
       "\n",
       "try {\n",
       "require(['notebook/js/codecell'], function(codecell) {\n",
       "  codecell.CodeCell.options_default.highlight_modes[\n",
       "      'magic_text/x-csrc'] = {'reg':[/^%%microblaze/]};\n",
       "  Jupyter.notebook.events.one('kernel_ready.Kernel', function(){\n",
       "      Jupyter.notebook.get_cells().map(function(cell){\n",
       "          if (cell.cell_type == 'code'){ cell.auto_highlight(); } }) ;\n",
       "  });\n",
       "});\n",
       "} catch (e) {};\n"
      ]
     },
     "metadata": {},
     "output_type": "display_data"
    },
    {
     "data": {
      "application/javascript": [
       "\n",
       "try {\n",
       "require(['notebook/js/codecell'], function(codecell) {\n",
       "  codecell.CodeCell.options_default.highlight_modes[\n",
       "      'magic_text/x-csrc'] = {'reg':[/^%%pybind11/]};\n",
       "  Jupyter.notebook.events.one('kernel_ready.Kernel', function(){\n",
       "      Jupyter.notebook.get_cells().map(function(cell){\n",
       "          if (cell.cell_type == 'code'){ cell.auto_highlight(); } }) ;\n",
       "  });\n",
       "});\n",
       "} catch (e) {};\n"
      ]
     },
     "metadata": {},
     "output_type": "display_data"
    }
   ],
   "source": [
    "import pynq\n",
    "import numpy as np\n",
    "\n",
    "from pynq import allocate\n",
    "from pynq import Overlay"
   ]
  },
  {
   "cell_type": "code",
   "execution_count": 2,
   "id": "98c76503-ff4a-4a84-94bd-c20743b05625",
   "metadata": {},
   "outputs": [],
   "source": [
    "ol = Overlay(\"LED_kernel.xclbin\")"
   ]
  },
  {
   "cell_type": "code",
   "execution_count": null,
   "id": "9928ae99-151a-4252-8390-dbaf379a1db7",
   "metadata": {},
   "outputs": [],
   "source": []
  },
  {
   "cell_type": "code",
   "execution_count": 3,
   "id": "6f2f1b79-78c6-4cac-a44a-53d1df422d1f",
   "metadata": {},
   "outputs": [],
   "source": [
    "N = 3970000\n",
    "input_buffer  = allocate( shape=int(N), dtype=np.uint64 )\n",
    "output_buffer = allocate( shape=int(N), dtype=np.uint64 )"
   ]
  },
  {
   "cell_type": "code",
   "execution_count": 6,
   "id": "ec90a3da-ee85-44c2-bec5-8a5a4812ddbc",
   "metadata": {},
   "outputs": [],
   "source": [
    "fifo = ol.krnl_rtl_1"
   ]
  },
  {
   "cell_type": "code",
   "execution_count": 7,
   "id": "5b590078-6e62-4d27-8c67-f276ad02ae13",
   "metadata": {},
   "outputs": [],
   "source": [
    "input_buffer[:] = np.random.randint(low=0, high=2**64-1, size=int(N), dtype=np.uint64)"
   ]
  },
  {
   "cell_type": "code",
   "execution_count": 8,
   "id": "47cddb4d-c853-4360-9482-7f6d5213b883",
   "metadata": {},
   "outputs": [
    {
     "name": "stdout",
     "output_type": "stream",
     "text": [
      "48.5 ms ± 17.1 µs per loop (mean ± std. dev. of 7 runs, 10 loops each)\n"
     ]
    }
   ],
   "source": [
    "%%timeit\n",
    "input_buffer.sync_to_device()\n",
    "\n",
    "fifo.call(input_buffer,output_buffer,int(N/2),int(N/2),0)\n",
    "\n",
    "output_buffer.sync_from_device()"
   ]
  },
  {
   "cell_type": "code",
   "execution_count": null,
   "id": "2a38dfe2-b76d-401d-8e98-3ce361c6d5e7",
   "metadata": {},
   "outputs": [],
   "source": [
    "output_buffer"
   ]
  },
  {
   "cell_type": "code",
   "execution_count": null,
   "id": "f0a50c9d-e987-4671-83b4-78e02f298593",
   "metadata": {},
   "outputs": [],
   "source": [
    "input_buffer"
   ]
  },
  {
   "cell_type": "code",
   "execution_count": null,
   "id": "e5eacac1-d868-416f-815c-c693ff228b62",
   "metadata": {},
   "outputs": [],
   "source": [
    "fifo.register_map"
   ]
  },
  {
   "cell_type": "code",
   "execution_count": null,
   "id": "987f8f47-3c37-4a07-994f-7ef9c84a7e6b",
   "metadata": {},
   "outputs": [],
   "source": [
    "del input_buffer\n",
    "del output_buffer\n",
    "ol.free()"
   ]
  },
  {
   "cell_type": "code",
   "execution_count": null,
   "id": "5bb6d2d4-4578-4ee1-bec2-0ad48e63afde",
   "metadata": {},
   "outputs": [],
   "source": [
    "794*32/3*2"
   ]
  },
  {
   "cell_type": "code",
   "execution_count": 9,
   "id": "d4c3d2bb-be20-4ce5-8de7-8cf6470398dc",
   "metadata": {},
   "outputs": [
    {
     "data": {
      "text/plain": [
       "1296.3265306122448"
      ]
     },
     "execution_count": 9,
     "metadata": {},
     "output_type": "execute_result"
    }
   ],
   "source": [
    "((3970000*16)/(49e-3))*1e-6"
   ]
  },
  {
   "cell_type": "code",
   "execution_count": 7,
   "id": "03a44a46-6cea-4f04-b39f-d32c4694c6a0",
   "metadata": {},
   "outputs": [
    {
     "ename": "NameError",
     "evalue": "name 'input_buffer' is not defined",
     "output_type": "error",
     "traceback": [
      "\u001b[0;31m---------------------------------------------------------------------------\u001b[0m",
      "\u001b[0;31mNameError\u001b[0m                                 Traceback (most recent call last)",
      "\u001b[0;32m<ipython-input-7-76033bb0ea3c>\u001b[0m in \u001b[0;36m<module>\u001b[0;34m\u001b[0m\n\u001b[0;32m----> 1\u001b[0;31m \u001b[0minput_buffer\u001b[0m\u001b[0;34m.\u001b[0m\u001b[0mflush\u001b[0m\u001b[0;34m(\u001b[0m\u001b[0;34m)\u001b[0m\u001b[0;34m\u001b[0m\u001b[0;34m\u001b[0m\u001b[0m\n\u001b[0m\u001b[1;32m      2\u001b[0m \u001b[0moutput_buffer\u001b[0m\u001b[0;34m.\u001b[0m\u001b[0mflush\u001b[0m\u001b[0;34m(\u001b[0m\u001b[0;34m)\u001b[0m\u001b[0;34m\u001b[0m\u001b[0;34m\u001b[0m\u001b[0m\n\u001b[1;32m      3\u001b[0m \u001b[0mol\u001b[0m\u001b[0;34m.\u001b[0m\u001b[0mfree\u001b[0m\u001b[0;34m\u001b[0m\u001b[0;34m\u001b[0m\u001b[0m\n",
      "\u001b[0;31mNameError\u001b[0m: name 'input_buffer' is not defined"
     ]
    }
   ],
   "source": [
    "input_buffer.flush()\n",
    "output_buffer.flush()\n",
    "ol.free"
   ]
  },
  {
   "cell_type": "code",
   "execution_count": 8,
   "id": "4c984eee-1ade-4af0-b798-2381c5445a45",
   "metadata": {},
   "outputs": [
    {
     "ename": "NameError",
     "evalue": "name 'input_buffer' is not defined",
     "output_type": "error",
     "traceback": [
      "\u001b[0;31m---------------------------------------------------------------------------\u001b[0m",
      "\u001b[0;31mNameError\u001b[0m                                 Traceback (most recent call last)",
      "\u001b[0;32m<ipython-input-8-3f9231e79e2d>\u001b[0m in \u001b[0;36m<module>\u001b[0;34m\u001b[0m\n\u001b[0;32m----> 1\u001b[0;31m \u001b[0;32mdel\u001b[0m \u001b[0minput_buffer\u001b[0m\u001b[0;34m\u001b[0m\u001b[0;34m\u001b[0m\u001b[0m\n\u001b[0m\u001b[1;32m      2\u001b[0m \u001b[0;32mdel\u001b[0m \u001b[0moutput_buffer\u001b[0m\u001b[0;34m\u001b[0m\u001b[0;34m\u001b[0m\u001b[0m\n",
      "\u001b[0;31mNameError\u001b[0m: name 'input_buffer' is not defined"
     ]
    }
   ],
   "source": [
    "del input_buffer\n",
    "del output_buffer"
   ]
  },
  {
   "cell_type": "code",
   "execution_count": 9,
   "id": "d66640d5-96f3-4142-90da-0c8e04b31efb",
   "metadata": {},
   "outputs": [],
   "source": [
    "ol.free()"
   ]
  },
  {
   "cell_type": "code",
   "execution_count": null,
   "id": "73de26c6-1383-4d43-909e-3874506166ca",
   "metadata": {},
   "outputs": [],
   "source": []
  },
  {
   "cell_type": "code",
   "execution_count": null,
   "id": "fb1bc204-1936-4609-8945-a81e10a4cd1f",
   "metadata": {},
   "outputs": [],
   "source": []
  },
  {
   "cell_type": "code",
   "execution_count": null,
   "id": "4e403f6d-a7b4-49ca-aea2-f0b4f67f8cfa",
   "metadata": {},
   "outputs": [],
   "source": []
  }
 ],
 "metadata": {
  "kernelspec": {
   "display_name": "Python 3",
   "language": "python",
   "name": "python3"
  },
  "language_info": {
   "codemirror_mode": {
    "name": "ipython",
    "version": 3
   },
   "file_extension": ".py",
   "mimetype": "text/x-python",
   "name": "python",
   "nbconvert_exporter": "python",
   "pygments_lexer": "ipython3",
   "version": "3.9.7"
  }
 },
 "nbformat": 4,
 "nbformat_minor": 5
}
